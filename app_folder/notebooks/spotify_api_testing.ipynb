{
  "nbformat": 4,
  "nbformat_minor": 0,
  "metadata": {
    "colab": {
      "name": "spotify_api_testing.ipynb",
      "provenance": [],
      "collapsed_sections": []
    },
    "kernelspec": {
      "name": "python3",
      "display_name": "Python 3"
    },
    "language_info": {
      "name": "python"
    }
  },
  "cells": [
    {
      "cell_type": "code",
      "source": [
        "!pip install spotipy"
      ],
      "metadata": {
        "colab": {
          "base_uri": "https://localhost:8080/"
        },
        "id": "isVWgZGC45xf",
        "outputId": "693c8003-395d-425c-c594-c69aed9a05ac"
      },
      "execution_count": 87,
      "outputs": [
        {
          "output_type": "stream",
          "name": "stdout",
          "text": [
            "Requirement already satisfied: spotipy in /usr/local/lib/python3.7/dist-packages (2.19.0)\n",
            "Requirement already satisfied: urllib3>=1.26.0 in /usr/local/lib/python3.7/dist-packages (from spotipy) (1.26.8)\n",
            "Requirement already satisfied: six>=1.15.0 in /usr/local/lib/python3.7/dist-packages (from spotipy) (1.15.0)\n",
            "Requirement already satisfied: requests>=2.25.0 in /usr/local/lib/python3.7/dist-packages (from spotipy) (2.27.1)\n",
            "Requirement already satisfied: charset-normalizer~=2.0.0 in /usr/local/lib/python3.7/dist-packages (from requests>=2.25.0->spotipy) (2.0.10)\n",
            "Requirement already satisfied: certifi>=2017.4.17 in /usr/local/lib/python3.7/dist-packages (from requests>=2.25.0->spotipy) (2021.10.8)\n",
            "Requirement already satisfied: idna<4,>=2.5 in /usr/local/lib/python3.7/dist-packages (from requests>=2.25.0->spotipy) (2.10)\n"
          ]
        }
      ]
    },
    {
      "cell_type": "code",
      "execution_count": 114,
      "metadata": {
        "id": "v2k115ja4k4k"
      },
      "outputs": [],
      "source": [
        "import base64\n",
        "import requests\n",
        "import datetime\n",
        "from urllib.parse import urlencode\n",
        "import spotipy\n",
        "from spotipy.oauth2 import SpotifyClientCredentials\n",
        "import os\n",
        "\n",
        "spotify_api_key = \"6b68c3794bbb4c1cbf3ec4a8f2f3f6c3\"\n",
        "spotify_api_key_secret = \"73f5aa7628f7443190a6515ff45c602e\"\n",
        "\n",
        "\n",
        "class SpotifyAPI(object):\n",
        "    access_token = None\n",
        "    access_token_expires = datetime.datetime.now()\n",
        "    access_token_did_expire = True\n",
        "    client_id = None\n",
        "    client_secret = None\n",
        "    token_url = \"https://accounts.spotify.com/api/token\"\n",
        "\n",
        "    def __init__(self, client_id, client_secret, *args, **kwargs):\n",
        "        # In case we want to inherit from somehwere else\n",
        "        super().__init__(*args, **kwargs)\n",
        "        self.client_id = client_id\n",
        "        self.client_secret = client_secret\n",
        "\n",
        "    def get_client_credentials(self):\n",
        "        \"\"\"\n",
        "        Returns a base64 encoded string\n",
        "        \"\"\"\n",
        "        client_id = self.client_id\n",
        "        client_secret = self.client_secret\n",
        "        if client_secret == None or client_id == None:\n",
        "            raise Exception(\"You must set client_id and client_secret\")\n",
        "        client_creds = f\"{client_id}:{client_secret}\"\n",
        "        client_creds_b64 = base64.b64encode(client_creds.encode())\n",
        "        return client_creds_b64.decode()\n",
        "\n",
        "    def get_token_headers(self):\n",
        "        client_creds_b64 = self.get_client_credentials()\n",
        "        return {\"Authorization\": f\"Basic {client_creds_b64}\"}\n",
        "\n",
        "    def get_token_data(self):\n",
        "        return {\"grant_type\": \"client_credentials\"}\n",
        "\n",
        "    def perform_auth(self):\n",
        "        token_url = self.token_url\n",
        "        token_data = self.get_token_data()\n",
        "        token_headers = self.get_token_headers()\n",
        "        r = requests.post(token_url, data=token_data, headers=token_headers)\n",
        "        if r.status_code not in range(200, 299):\n",
        "            raise Exception(\"Could not authenticate client.\")\n",
        "        data = r.json()\n",
        "        now = datetime.datetime.now()\n",
        "        access_token = data[\"access_token\"]\n",
        "        expires_in = data[\"expires_in\"]\n",
        "        expires = now + datetime.timedelta(seconds=expires_in)\n",
        "        self.access_token = access_token\n",
        "        self.access_token_expires = expires\n",
        "        self.access_token_did_expire = expires < now\n",
        "        return True\n",
        "\n",
        "    def get_access_token(self):\n",
        "        token = self.access_token\n",
        "        expires = self.access_token_expires\n",
        "        now = datetime.datetime.now()\n",
        "        if expires < now:\n",
        "            self.perform_auth()\n",
        "            return self.get_access_token()\n",
        "        elif token == None:\n",
        "            self.perform_auth()\n",
        "            return self.get_access_token()\n",
        "        return token\n",
        "\n",
        "    def get_resource_header(self):\n",
        "        access_token = self.get_access_token()\n",
        "        headers = {\"Authorization\": f\"Bearer {access_token}\"}\n",
        "        return headers\n",
        "\n",
        "    # def get_resource(self, lookup_id, resource_type=\"albums\", version=\"v1\"):\n",
        "    #     endpoint = f\"https://api.spotify.com/{version}/{resource_type}/{lookup_id}\"\n",
        "    #     headers = self.get_resource_header()\n",
        "    #     r = requests.get(endpoint, headers=headers)\n",
        "    #     if r.status_code not in range(200, 299):\n",
        "    #         return {}\n",
        "    #     return r.json()\n",
        "\n",
        "    # def get_artist(self, _id):\n",
        "    #     return self.get_resource(_id, resource_type=\"artists\")\n",
        "\n",
        "    def base_search(self, query_params):\n",
        "        headers = self.get_resource_header()\n",
        "        endpoint = \"https://api.spotify.com/v1/search\"\n",
        "        lookup_url = f\"{endpoint}?{query_params}\"\n",
        "        resp = requests.get(lookup_url, headers=headers)\n",
        "        if resp.status_code not in range(200, 299):\n",
        "            return {}\n",
        "        return resp.json()\n",
        "\n",
        "    def search(\n",
        "        self, query=None, operator=None, operator_query=None, search_type=\"artist\"\n",
        "    ):\n",
        "        if query == None:\n",
        "            raise Exception(\"A query is required\")\n",
        "        if isinstance(query, dict):\n",
        "            query = \" \".join([f\"{k}:{v}\" for k, v in query.items()])\n",
        "        if operator != None and operator_query != None:\n",
        "            if operator.lower() == \"or\" or operator.lower() == \"not\":\n",
        "                operator = operator.upper()\n",
        "                if isinstance(operator_query, str):\n",
        "                    query = f\"{query} {operator} {operator_query}\"\n",
        "        query_params = urlencode({\"q\": query, \"type\": search_type.lower()})\n",
        "        return self.base_search(query_params)"
      ]
    },
    {
      "cell_type": "code",
      "source": [
        "auth_manager = SpotifyClientCredentials(spotify_api_key, spotify_api_key_secret)"
      ],
      "metadata": {
        "id": "rjmxjAZH5AI1"
      },
      "execution_count": 115,
      "outputs": []
    },
    {
      "cell_type": "code",
      "source": [
        "spotipy_instance = spotipy.Spotify(auth_manager=auth_manager)"
      ],
      "metadata": {
        "id": "oclrorDH5FG1"
      },
      "execution_count": 116,
      "outputs": []
    },
    {
      "cell_type": "code",
      "source": [
        "def retrieve_spotify_id(song_name, artist_name):\n",
        "    \"\"\"\n",
        "    Example:\n",
        "\n",
        "    song_id = retrieve_spotify_id('margaritaville','jimmy buffett')\n",
        "\n",
        "    print(\"Song ID is:\", song_id)\n",
        "\n",
        "    Output:\n",
        "    Song ID is: 4EEjMyQub6tgFVshlM9j1M\n",
        "\n",
        "    \"\"\"\n",
        "\n",
        "    spotify = SpotifyAPI(spotify_api_key, spotify_api_key_secret)\n",
        "\n",
        "    token = spotify.get_access_token()\n",
        "    if token == None:\n",
        "        return \"Failed to get Spotify token\"\n",
        "    else:\n",
        "        try:\n",
        "            song = spotify.search(\n",
        "                {\"track\": song_name, \"artist\": artist_name}, search_type=\"track\"\n",
        "            )\n",
        "            song_id = song[\"tracks\"][\"items\"][0][\"id\"]\n",
        "        except:\n",
        "            return \"There was an error finding your song. Please enter another song.\"\n",
        "\n",
        "    return song_id"
      ],
      "metadata": {
        "id": "BwWvbgxW-SVn"
      },
      "execution_count": 117,
      "outputs": []
    },
    {
      "cell_type": "code",
      "source": [
        "spotify = SpotifyAPI(spotify_api_key, spotify_api_key_secret)\n",
        "song_data = spotify.search(\n",
        "                {\"track\": \"Margaritaville\", \"artist\": \"Jimmy Buffet\"}, search_type=\"track\"\n",
        "            )\n",
        "\n",
        "\n",
        "\n",
        "release_date = song_data['tracks']['items'][0]['album']['release_date']\n",
        "\n"
      ],
      "metadata": {
        "id": "XmbEOhtmgZRK"
      },
      "execution_count": 167,
      "outputs": []
    },
    {
      "cell_type": "code",
      "source": [
        "import datetime\n",
        "format = '%Y-%m-%d'\n",
        "year = datetime.datetime.strptime(release_date, format).year\n",
        "year"
      ],
      "metadata": {
        "colab": {
          "base_uri": "https://localhost:8080/"
        },
        "id": "otbA313kzDlj",
        "outputId": "05cd0bed-30b0-480c-ae20-4b13ab7d3db6"
      },
      "execution_count": 172,
      "outputs": [
        {
          "output_type": "execute_result",
          "data": {
            "text/plain": [
              "1977"
            ]
          },
          "metadata": {},
          "execution_count": 172
        }
      ]
    },
    {
      "cell_type": "code",
      "source": [
        "auth_manager = SpotifyClientCredentials(spotify_api_key, spotify_api_key_secret)\n",
        "spotipy_instance = spotipy.Spotify(auth_manager=auth_manager)\n",
        "\n",
        "audio_features = spotipy_instance.audio_features(tracks=[song_id])\n",
        "audio_features"
      ],
      "metadata": {
        "colab": {
          "base_uri": "https://localhost:8080/"
        },
        "id": "2upjCzDNnpQL",
        "outputId": "ffbb8675-cf8d-424d-b9bc-3fc03147c64e"
      },
      "execution_count": 155,
      "outputs": [
        {
          "output_type": "execute_result",
          "data": {
            "text/plain": [
              "[{'acousticness': 0.711,\n",
              "  'analysis_url': 'https://api.spotify.com/v1/audio-analysis/4EEjMyQub6tgFVshlM9j1M',\n",
              "  'danceability': 0.8,\n",
              "  'duration_ms': 250933,\n",
              "  'energy': 0.545,\n",
              "  'id': '4EEjMyQub6tgFVshlM9j1M',\n",
              "  'instrumentalness': 0.00191,\n",
              "  'key': 2,\n",
              "  'liveness': 0.104,\n",
              "  'loudness': -13.637,\n",
              "  'mode': 1,\n",
              "  'speechiness': 0.0357,\n",
              "  'tempo': 124.943,\n",
              "  'time_signature': 4,\n",
              "  'track_href': 'https://api.spotify.com/v1/tracks/4EEjMyQub6tgFVshlM9j1M',\n",
              "  'type': 'audio_features',\n",
              "  'uri': 'spotify:track:4EEjMyQub6tgFVshlM9j1M',\n",
              "  'valence': 0.861}]"
            ]
          },
          "metadata": {},
          "execution_count": 155
        }
      ]
    },
    {
      "cell_type": "code",
      "source": [
        ""
      ],
      "metadata": {
        "id": "rdci-A8Cv-gA"
      },
      "execution_count": null,
      "outputs": []
    },
    {
      "cell_type": "code",
      "source": [
        "for i in rec_list['tracks']:\n",
        "  album_list.append(i['album']['name'])\n",
        "  artist_list.append(i['artists'][0]['name'])\n",
        "  song_list.append(i['name'])"
      ],
      "metadata": {
        "colab": {
          "base_uri": "https://localhost:8080/",
          "height": 217
        },
        "id": "JK3HW0n3l4up",
        "outputId": "cd393e62-f1a5-4dea-f3b1-001af00af675"
      },
      "execution_count": 151,
      "outputs": [
        {
          "output_type": "error",
          "ename": "KeyError",
          "evalue": "ignored",
          "traceback": [
            "\u001b[0;31m---------------------------------------------------------------------------\u001b[0m",
            "\u001b[0;31mKeyError\u001b[0m                                  Traceback (most recent call last)",
            "\u001b[0;32m<ipython-input-151-143777e912a6>\u001b[0m in \u001b[0;36m<module>\u001b[0;34m()\u001b[0m\n\u001b[0;32m----> 1\u001b[0;31m \u001b[0;32mfor\u001b[0m \u001b[0mi\u001b[0m \u001b[0;32min\u001b[0m \u001b[0mrec_list\u001b[0m\u001b[0;34m[\u001b[0m\u001b[0;34m'tracks'\u001b[0m\u001b[0;34m]\u001b[0m\u001b[0;34m:\u001b[0m\u001b[0;34m\u001b[0m\u001b[0;34m\u001b[0m\u001b[0m\n\u001b[0m\u001b[1;32m      2\u001b[0m   \u001b[0malbum_list\u001b[0m\u001b[0;34m.\u001b[0m\u001b[0mappend\u001b[0m\u001b[0;34m(\u001b[0m\u001b[0mi\u001b[0m\u001b[0;34m[\u001b[0m\u001b[0;34m'album'\u001b[0m\u001b[0;34m]\u001b[0m\u001b[0;34m[\u001b[0m\u001b[0;34m'name'\u001b[0m\u001b[0;34m]\u001b[0m\u001b[0;34m)\u001b[0m\u001b[0;34m\u001b[0m\u001b[0;34m\u001b[0m\u001b[0m\n\u001b[1;32m      3\u001b[0m   \u001b[0martist_list\u001b[0m\u001b[0;34m.\u001b[0m\u001b[0mappend\u001b[0m\u001b[0;34m(\u001b[0m\u001b[0mi\u001b[0m\u001b[0;34m[\u001b[0m\u001b[0;34m'artists'\u001b[0m\u001b[0;34m]\u001b[0m\u001b[0;34m[\u001b[0m\u001b[0;36m0\u001b[0m\u001b[0;34m]\u001b[0m\u001b[0;34m[\u001b[0m\u001b[0;34m'name'\u001b[0m\u001b[0;34m]\u001b[0m\u001b[0;34m)\u001b[0m\u001b[0;34m\u001b[0m\u001b[0;34m\u001b[0m\u001b[0m\n\u001b[1;32m      4\u001b[0m   \u001b[0msong_list\u001b[0m\u001b[0;34m.\u001b[0m\u001b[0mappend\u001b[0m\u001b[0;34m(\u001b[0m\u001b[0mi\u001b[0m\u001b[0;34m[\u001b[0m\u001b[0;34m'name'\u001b[0m\u001b[0;34m]\u001b[0m\u001b[0;34m)\u001b[0m\u001b[0;34m\u001b[0m\u001b[0;34m\u001b[0m\u001b[0m\n",
            "\u001b[0;31mKeyError\u001b[0m: 'tracks'"
          ]
        }
      ]
    },
    {
      "cell_type": "code",
      "source": [
        "song_list"
      ],
      "metadata": {
        "colab": {
          "base_uri": "https://localhost:8080/"
        },
        "id": "cqlJgnghn0m4",
        "outputId": "995aef17-7f98-47ff-ac6d-758acea68ed9"
      },
      "execution_count": 148,
      "outputs": [
        {
          "output_type": "execute_result",
          "data": {
            "text/plain": [
              "['Take Me Home, Country Roads',\n",
              " 'Say Hey (I Love You) (feat. Cherine Tanya Anderson)',\n",
              " \"We Didn't Start the Fire\",\n",
              " 'You Might Think',\n",
              " 'Casey Jones - 2013 Remaster',\n",
              " 'Sunshine (Go Away Today)',\n",
              " 'One Week',\n",
              " 'When the Sun Goes Down',\n",
              " 'Life in the Fast Lane - 2013 Remaster',\n",
              " 'Toes',\n",
              " 'Still the One',\n",
              " \"It's Still Rock and Roll to Me\",\n",
              " 'Caught Up In You',\n",
              " 'Cherry Bomb',\n",
              " 'The Sound Of Sunshine',\n",
              " 'Night Moves',\n",
              " 'Centerfield',\n",
              " 'Something To Talk About',\n",
              " 'Werewolves of London - 2007 Remaster',\n",
              " 'Hook']"
            ]
          },
          "metadata": {},
          "execution_count": 148
        }
      ]
    },
    {
      "cell_type": "code",
      "source": [
        "rec_list['tracks'][0]['artists'][0]['name']"
      ],
      "metadata": {
        "colab": {
          "base_uri": "https://localhost:8080/",
          "height": 35
        },
        "id": "buoCltOWl5SL",
        "outputId": "692df7d6-cb27-4c75-80fa-6252a54dceb6"
      },
      "execution_count": 133,
      "outputs": [
        {
          "output_type": "execute_result",
          "data": {
            "application/vnd.google.colaboratory.intrinsic+json": {
              "type": "string"
            },
            "text/plain": [
              "'John Denver'"
            ]
          },
          "metadata": {},
          "execution_count": 133
        }
      ]
    },
    {
      "cell_type": "code",
      "source": [
        "rec_list['tracks'][0]['name']"
      ],
      "metadata": {
        "colab": {
          "base_uri": "https://localhost:8080/",
          "height": 35
        },
        "id": "1DS9uqsGnI1n",
        "outputId": "fc0d5a78-1211-404a-ed68-c5a7124acddc"
      },
      "execution_count": 139,
      "outputs": [
        {
          "output_type": "execute_result",
          "data": {
            "application/vnd.google.colaboratory.intrinsic+json": {
              "type": "string"
            },
            "text/plain": [
              "'Take Me Home, Country Roads'"
            ]
          },
          "metadata": {},
          "execution_count": 139
        }
      ]
    },
    {
      "cell_type": "code",
      "source": [
        "spotify_id = retrieve_spotify_id(\"Margaritaville\", \"Jimmy Buffet\")"
      ],
      "metadata": {
        "id": "b1BU8-9d_rb5"
      },
      "execution_count": null,
      "outputs": []
    },
    {
      "cell_type": "code",
      "source": [
        "spotify = SpotifyAPI(spotify_api_key, spotify_api_key_secret)\n",
        "\n",
        "token = spotify.get_access_token()\n",
        "if token == None:\n",
        "  print(\"Failed to get Spotify token\")\n",
        "song_data = spotify.search({\"track\": song_name, \"artist\": artist_name}, search_type=\"track\")\n",
        "song_data"
      ],
      "metadata": {
        "id": "64jlbUDvd77Y"
      },
      "execution_count": null,
      "outputs": []
    },
    {
      "cell_type": "code",
      "source": [
        "spotify_id"
      ],
      "metadata": {
        "colab": {
          "base_uri": "https://localhost:8080/",
          "height": 35
        },
        "id": "u0L9VuXF397S",
        "outputId": "3f8d480c-35cf-4862-962b-92f67e974b37"
      },
      "execution_count": null,
      "outputs": [
        {
          "output_type": "execute_result",
          "data": {
            "application/vnd.google.colaboratory.intrinsic+json": {
              "type": "string"
            },
            "text/plain": [
              "'7adzk3KQw3ll2GiiTFS0xd'"
            ]
          },
          "metadata": {},
          "execution_count": 27
        }
      ]
    },
    {
      "cell_type": "code",
      "source": [
        "spotify = SpotifyAPI(spotify_api_key, spotify_api_key_secret)"
      ],
      "metadata": {
        "id": "GXQM5Cuc_vM0"
      },
      "execution_count": null,
      "outputs": []
    },
    {
      "cell_type": "code",
      "source": [
        "spotify.get_access_token()"
      ],
      "metadata": {
        "id": "s8TcwozyBN72",
        "outputId": "ce8e2f4c-dd16-43f2-f0f8-97fa3ea9e0a3",
        "colab": {
          "base_uri": "https://localhost:8080/",
          "height": 35
        }
      },
      "execution_count": null,
      "outputs": [
        {
          "output_type": "execute_result",
          "data": {
            "application/vnd.google.colaboratory.intrinsic+json": {
              "type": "string"
            },
            "text/plain": [
              "'BQAcijpblHls9gAQYvaOOavpHKwuFtItF1MiHn56yYsDO-5w-UsF8Epa-CTxSEFx-HUl5vz7_PhBzZ0ko2Q'"
            ]
          },
          "metadata": {},
          "execution_count": 12
        }
      ]
    },
    {
      "cell_type": "code",
      "source": [
        "audio_features = spotipy_instance.audio_features(tracks=[spotify_id])"
      ],
      "metadata": {
        "id": "36LnbVWfBQV0"
      },
      "execution_count": null,
      "outputs": []
    },
    {
      "cell_type": "code",
      "source": [
        "spotipy_instance.recommendations(seed_artists=)"
      ],
      "metadata": {
        "id": "Tw0-IKsddW6Y"
      },
      "execution_count": null,
      "outputs": []
    },
    {
      "cell_type": "code",
      "source": [
        ""
      ],
      "metadata": {
        "id": "3aVhHSNndWyE"
      },
      "execution_count": null,
      "outputs": []
    },
    {
      "cell_type": "code",
      "source": [
        ""
      ],
      "metadata": {
        "id": "GZDj-oFYdWqk"
      },
      "execution_count": null,
      "outputs": []
    },
    {
      "cell_type": "code",
      "source": [
        "audio_features_dict = audio_features\n",
        "\n",
        "danceability = audio_features_dict[0][\"danceability\"]\n",
        "energy = audio_features_dict[0][\"energy\"]\n",
        "key = audio_features_dict[0][\"key\"]\n",
        "loudness = audio_features_dict[0][\"loudness\"]\n",
        "mode = audio_features_dict[0][\"mode\"]\n",
        "speechiness = audio_features_dict[0][\"speechiness\"]\n",
        "acousticness = audio_features_dict[0][\"acousticness\"]\n",
        "instrumentalness = audio_features_dict[0][\"instrumentalness\"]\n",
        "liveness = audio_features_dict[0][\"liveness\"]\n",
        "valence = audio_features_dict[0][\"valence\"]\n",
        "tempo = audio_features_dict[0][\"tempo\"]\n",
        "duration_ms = audio_features_dict[0][\"duration_ms\"]\n",
        "time_signature = audio_features_dict[0][\"time_signature\"]\n",
        "\n",
        "user_song_features = [\n",
        "    danceability,\n",
        "    energy,\n",
        "    key,\n",
        "    loudness,\n",
        "    mode,\n",
        "    speechiness,\n",
        "    acousticness,\n",
        "    instrumentalness,\n",
        "    liveness,\n",
        "    valence,\n",
        "    tempo,\n",
        "    duration_ms,\n",
        "    time_signature,\n",
        "]"
      ],
      "metadata": {
        "id": "66mxtN6nyDIA"
      },
      "execution_count": null,
      "outputs": []
    },
    {
      "cell_type": "code",
      "source": [
        "user_song_features_df = pd.DataFrame([user_song_features], columns=['danceability', 'energy',\n",
        "       'key', 'loudness', 'mode', 'speechiness', 'acousticness',\n",
        "       'instrumentalness', 'liveness', 'valence', 'tempo', 'duration_ms',\n",
        "       'time_signature'])\n",
        "user_song_features_df"
      ],
      "metadata": {
        "colab": {
          "base_uri": "https://localhost:8080/",
          "height": 145
        },
        "id": "po84t4ISylAE",
        "outputId": "8ea23168-37be-4297-9bcf-e9cbe330ba6b"
      },
      "execution_count": 60,
      "outputs": [
        {
          "output_type": "execute_result",
          "data": {
            "text/html": [
              "\n",
              "  <div id=\"df-b89e2176-3700-4672-b987-6553bf9a4354\">\n",
              "    <div class=\"colab-df-container\">\n",
              "      <div>\n",
              "<style scoped>\n",
              "    .dataframe tbody tr th:only-of-type {\n",
              "        vertical-align: middle;\n",
              "    }\n",
              "\n",
              "    .dataframe tbody tr th {\n",
              "        vertical-align: top;\n",
              "    }\n",
              "\n",
              "    .dataframe thead th {\n",
              "        text-align: right;\n",
              "    }\n",
              "</style>\n",
              "<table border=\"1\" class=\"dataframe\">\n",
              "  <thead>\n",
              "    <tr style=\"text-align: right;\">\n",
              "      <th></th>\n",
              "      <th>danceability</th>\n",
              "      <th>energy</th>\n",
              "      <th>key</th>\n",
              "      <th>loudness</th>\n",
              "      <th>mode</th>\n",
              "      <th>speechiness</th>\n",
              "      <th>acousticness</th>\n",
              "      <th>instrumentalness</th>\n",
              "      <th>liveness</th>\n",
              "      <th>valence</th>\n",
              "      <th>tempo</th>\n",
              "      <th>duration_ms</th>\n",
              "      <th>time_signature</th>\n",
              "    </tr>\n",
              "  </thead>\n",
              "  <tbody>\n",
              "    <tr>\n",
              "      <th>0</th>\n",
              "      <td>0.8</td>\n",
              "      <td>0.545</td>\n",
              "      <td>2</td>\n",
              "      <td>-13.637</td>\n",
              "      <td>1</td>\n",
              "      <td>0.0357</td>\n",
              "      <td>0.711</td>\n",
              "      <td>0.00191</td>\n",
              "      <td>0.104</td>\n",
              "      <td>0.861</td>\n",
              "      <td>124.943</td>\n",
              "      <td>250933</td>\n",
              "      <td>4</td>\n",
              "    </tr>\n",
              "  </tbody>\n",
              "</table>\n",
              "</div>\n",
              "      <button class=\"colab-df-convert\" onclick=\"convertToInteractive('df-b89e2176-3700-4672-b987-6553bf9a4354')\"\n",
              "              title=\"Convert this dataframe to an interactive table.\"\n",
              "              style=\"display:none;\">\n",
              "        \n",
              "  <svg xmlns=\"http://www.w3.org/2000/svg\" height=\"24px\"viewBox=\"0 0 24 24\"\n",
              "       width=\"24px\">\n",
              "    <path d=\"M0 0h24v24H0V0z\" fill=\"none\"/>\n",
              "    <path d=\"M18.56 5.44l.94 2.06.94-2.06 2.06-.94-2.06-.94-.94-2.06-.94 2.06-2.06.94zm-11 1L8.5 8.5l.94-2.06 2.06-.94-2.06-.94L8.5 2.5l-.94 2.06-2.06.94zm10 10l.94 2.06.94-2.06 2.06-.94-2.06-.94-.94-2.06-.94 2.06-2.06.94z\"/><path d=\"M17.41 7.96l-1.37-1.37c-.4-.4-.92-.59-1.43-.59-.52 0-1.04.2-1.43.59L10.3 9.45l-7.72 7.72c-.78.78-.78 2.05 0 2.83L4 21.41c.39.39.9.59 1.41.59.51 0 1.02-.2 1.41-.59l7.78-7.78 2.81-2.81c.8-.78.8-2.07 0-2.86zM5.41 20L4 18.59l7.72-7.72 1.47 1.35L5.41 20z\"/>\n",
              "  </svg>\n",
              "      </button>\n",
              "      \n",
              "  <style>\n",
              "    .colab-df-container {\n",
              "      display:flex;\n",
              "      flex-wrap:wrap;\n",
              "      gap: 12px;\n",
              "    }\n",
              "\n",
              "    .colab-df-convert {\n",
              "      background-color: #E8F0FE;\n",
              "      border: none;\n",
              "      border-radius: 50%;\n",
              "      cursor: pointer;\n",
              "      display: none;\n",
              "      fill: #1967D2;\n",
              "      height: 32px;\n",
              "      padding: 0 0 0 0;\n",
              "      width: 32px;\n",
              "    }\n",
              "\n",
              "    .colab-df-convert:hover {\n",
              "      background-color: #E2EBFA;\n",
              "      box-shadow: 0px 1px 2px rgba(60, 64, 67, 0.3), 0px 1px 3px 1px rgba(60, 64, 67, 0.15);\n",
              "      fill: #174EA6;\n",
              "    }\n",
              "\n",
              "    [theme=dark] .colab-df-convert {\n",
              "      background-color: #3B4455;\n",
              "      fill: #D2E3FC;\n",
              "    }\n",
              "\n",
              "    [theme=dark] .colab-df-convert:hover {\n",
              "      background-color: #434B5C;\n",
              "      box-shadow: 0px 1px 3px 1px rgba(0, 0, 0, 0.15);\n",
              "      filter: drop-shadow(0px 1px 2px rgba(0, 0, 0, 0.3));\n",
              "      fill: #FFFFFF;\n",
              "    }\n",
              "  </style>\n",
              "\n",
              "      <script>\n",
              "        const buttonEl =\n",
              "          document.querySelector('#df-b89e2176-3700-4672-b987-6553bf9a4354 button.colab-df-convert');\n",
              "        buttonEl.style.display =\n",
              "          google.colab.kernel.accessAllowed ? 'block' : 'none';\n",
              "\n",
              "        async function convertToInteractive(key) {\n",
              "          const element = document.querySelector('#df-b89e2176-3700-4672-b987-6553bf9a4354');\n",
              "          const dataTable =\n",
              "            await google.colab.kernel.invokeFunction('convertToInteractive',\n",
              "                                                     [key], {});\n",
              "          if (!dataTable) return;\n",
              "\n",
              "          const docLinkHtml = 'Like what you see? Visit the ' +\n",
              "            '<a target=\"_blank\" href=https://colab.research.google.com/notebooks/data_table.ipynb>data table notebook</a>'\n",
              "            + ' to learn more about interactive tables.';\n",
              "          element.innerHTML = '';\n",
              "          dataTable['output_type'] = 'display_data';\n",
              "          await google.colab.output.renderOutput(dataTable, element);\n",
              "          const docLink = document.createElement('div');\n",
              "          docLink.innerHTML = docLinkHtml;\n",
              "          element.appendChild(docLink);\n",
              "        }\n",
              "      </script>\n",
              "    </div>\n",
              "  </div>\n",
              "  "
            ],
            "text/plain": [
              "   danceability  energy  key  ...    tempo  duration_ms  time_signature\n",
              "0           0.8   0.545    2  ...  124.943       250933               4\n",
              "\n",
              "[1 rows x 13 columns]"
            ]
          },
          "metadata": {},
          "execution_count": 60
        }
      ]
    },
    {
      "cell_type": "code",
      "source": [
        "song_name = \"Margaritaville\"\n",
        "artist_name = \"Jimmy Buffet\"\n",
        "spotify_id"
      ],
      "metadata": {
        "id": "ooUOjBIV2hq9"
      },
      "execution_count": null,
      "outputs": []
    },
    {
      "cell_type": "code",
      "source": [
        ""
      ],
      "metadata": {
        "id": "hUbyFDdU3ATM"
      },
      "execution_count": null,
      "outputs": []
    },
    {
      "cell_type": "code",
      "source": [
        ""
      ],
      "metadata": {
        "id": "3tOUMUkPdUbW"
      },
      "execution_count": null,
      "outputs": []
    },
    {
      "cell_type": "code",
      "source": [
        ""
      ],
      "metadata": {
        "id": "Bu1xpQkxdUZN"
      },
      "execution_count": null,
      "outputs": []
    },
    {
      "cell_type": "code",
      "source": [
        ""
      ],
      "metadata": {
        "id": "qbQZJXETdUXE"
      },
      "execution_count": null,
      "outputs": []
    },
    {
      "cell_type": "code",
      "source": [
        "import pandas as pd\n",
        "spotify_df = pd.read_csv('smaller_tracks_features.csv')"
      ],
      "metadata": {
        "id": "SQtuYdvuy-Bz"
      },
      "execution_count": null,
      "outputs": []
    },
    {
      "cell_type": "code",
      "source": [
        "if spotify_id in spotify_df['id'].values:\n",
        "  i = spotify_df[spotify_df['id'] == spotify_id].index\n",
        "  spotify_df = spotify_df.drop(i)\n",
        "  print(\"Dropped\")\n",
        "else:\n",
        "  print(False)"
      ],
      "metadata": {
        "colab": {
          "base_uri": "https://localhost:8080/"
        },
        "id": "9tNJqZ381lMR",
        "outputId": "9415bfa3-358d-459b-ff36-52f38a380522"
      },
      "execution_count": null,
      "outputs": [
        {
          "output_type": "stream",
          "name": "stdout",
          "text": [
            "Dropped\n"
          ]
        }
      ]
    },
    {
      "cell_type": "code",
      "source": [
        "len(spotify_df)"
      ],
      "metadata": {
        "colab": {
          "base_uri": "https://localhost:8080/"
        },
        "id": "Svu5_j80272I",
        "outputId": "f5ef2168-ca98-4378-979f-cb68e4926d6a"
      },
      "execution_count": null,
      "outputs": [
        {
          "output_type": "execute_result",
          "data": {
            "text/plain": [
              "199999"
            ]
          },
          "metadata": {},
          "execution_count": 32
        }
      ]
    },
    {
      "cell_type": "code",
      "source": [
        "spotify_df.columns"
      ],
      "metadata": {
        "colab": {
          "base_uri": "https://localhost:8080/"
        },
        "id": "hthWKQ5H8fO8",
        "outputId": "161ef73d-a8f6-4db4-868c-b25c2233cecb"
      },
      "execution_count": null,
      "outputs": [
        {
          "output_type": "execute_result",
          "data": {
            "text/plain": [
              "Index(['id', 'name', 'album', 'album_id', 'artists', 'artist_ids',\n",
              "       'track_number', 'disc_number', 'explicit', 'danceability', 'energy',\n",
              "       'key', 'loudness', 'mode', 'speechiness', 'acousticness',\n",
              "       'instrumentalness', 'liveness', 'valence', 'tempo', 'duration_ms',\n",
              "       'time_signature', 'year', 'release_date'],\n",
              "      dtype='object')"
            ]
          },
          "metadata": {},
          "execution_count": 36
        }
      ]
    },
    {
      "cell_type": "code",
      "source": [
        "cols_to_drop = ['id', 'name', 'album', 'album_id', 'artists', 'artist_ids',\n",
        "       'track_number', 'disc_number', 'explicit', 'year', 'release_date']\n",
        "\n",
        "spotify_df = spotify_df.drop(cols_to_drop, axis=1)\n",
        "spotify_df"
      ],
      "metadata": {
        "colab": {
          "base_uri": "https://localhost:8080/",
          "height": 487
        },
        "id": "XKyRJbLN8kZa",
        "outputId": "6a407b80-c4a3-4ba3-a711-dcccd7f9fa9f"
      },
      "execution_count": null,
      "outputs": [
        {
          "output_type": "execute_result",
          "data": {
            "text/html": [
              "\n",
              "  <div id=\"df-f3286bd5-1ed6-47e6-8aaf-d6c847e4550e\">\n",
              "    <div class=\"colab-df-container\">\n",
              "      <div>\n",
              "<style scoped>\n",
              "    .dataframe tbody tr th:only-of-type {\n",
              "        vertical-align: middle;\n",
              "    }\n",
              "\n",
              "    .dataframe tbody tr th {\n",
              "        vertical-align: top;\n",
              "    }\n",
              "\n",
              "    .dataframe thead th {\n",
              "        text-align: right;\n",
              "    }\n",
              "</style>\n",
              "<table border=\"1\" class=\"dataframe\">\n",
              "  <thead>\n",
              "    <tr style=\"text-align: right;\">\n",
              "      <th></th>\n",
              "      <th>danceability</th>\n",
              "      <th>energy</th>\n",
              "      <th>key</th>\n",
              "      <th>loudness</th>\n",
              "      <th>mode</th>\n",
              "      <th>speechiness</th>\n",
              "      <th>acousticness</th>\n",
              "      <th>instrumentalness</th>\n",
              "      <th>liveness</th>\n",
              "      <th>valence</th>\n",
              "      <th>tempo</th>\n",
              "      <th>duration_ms</th>\n",
              "      <th>time_signature</th>\n",
              "    </tr>\n",
              "  </thead>\n",
              "  <tbody>\n",
              "    <tr>\n",
              "      <th>0</th>\n",
              "      <td>0.901</td>\n",
              "      <td>0.1970</td>\n",
              "      <td>9</td>\n",
              "      <td>-10.862</td>\n",
              "      <td>1</td>\n",
              "      <td>0.1220</td>\n",
              "      <td>0.234000</td>\n",
              "      <td>0.00000</td>\n",
              "      <td>0.1500</td>\n",
              "      <td>0.6710</td>\n",
              "      <td>128.493</td>\n",
              "      <td>146467</td>\n",
              "      <td>4</td>\n",
              "    </tr>\n",
              "    <tr>\n",
              "      <th>1</th>\n",
              "      <td>0.325</td>\n",
              "      <td>0.9860</td>\n",
              "      <td>7</td>\n",
              "      <td>-4.148</td>\n",
              "      <td>1</td>\n",
              "      <td>0.1810</td>\n",
              "      <td>0.000098</td>\n",
              "      <td>0.03240</td>\n",
              "      <td>0.3470</td>\n",
              "      <td>0.1520</td>\n",
              "      <td>123.153</td>\n",
              "      <td>445867</td>\n",
              "      <td>4</td>\n",
              "    </tr>\n",
              "    <tr>\n",
              "      <th>2</th>\n",
              "      <td>0.650</td>\n",
              "      <td>0.9970</td>\n",
              "      <td>4</td>\n",
              "      <td>-3.627</td>\n",
              "      <td>0</td>\n",
              "      <td>0.0918</td>\n",
              "      <td>0.062500</td>\n",
              "      <td>0.88800</td>\n",
              "      <td>0.4800</td>\n",
              "      <td>0.6330</td>\n",
              "      <td>127.086</td>\n",
              "      <td>362547</td>\n",
              "      <td>4</td>\n",
              "    </tr>\n",
              "    <tr>\n",
              "      <th>4</th>\n",
              "      <td>0.265</td>\n",
              "      <td>0.6520</td>\n",
              "      <td>2</td>\n",
              "      <td>-12.279</td>\n",
              "      <td>0</td>\n",
              "      <td>0.0541</td>\n",
              "      <td>0.116000</td>\n",
              "      <td>0.72100</td>\n",
              "      <td>0.0923</td>\n",
              "      <td>0.1150</td>\n",
              "      <td>170.520</td>\n",
              "      <td>256720</td>\n",
              "      <td>4</td>\n",
              "    </tr>\n",
              "    <tr>\n",
              "      <th>5</th>\n",
              "      <td>0.403</td>\n",
              "      <td>0.1180</td>\n",
              "      <td>0</td>\n",
              "      <td>-21.256</td>\n",
              "      <td>1</td>\n",
              "      <td>0.0361</td>\n",
              "      <td>0.984000</td>\n",
              "      <td>0.95700</td>\n",
              "      <td>0.0945</td>\n",
              "      <td>0.3840</td>\n",
              "      <td>130.710</td>\n",
              "      <td>455533</td>\n",
              "      <td>4</td>\n",
              "    </tr>\n",
              "    <tr>\n",
              "      <th>...</th>\n",
              "      <td>...</td>\n",
              "      <td>...</td>\n",
              "      <td>...</td>\n",
              "      <td>...</td>\n",
              "      <td>...</td>\n",
              "      <td>...</td>\n",
              "      <td>...</td>\n",
              "      <td>...</td>\n",
              "      <td>...</td>\n",
              "      <td>...</td>\n",
              "      <td>...</td>\n",
              "      <td>...</td>\n",
              "      <td>...</td>\n",
              "    </tr>\n",
              "    <tr>\n",
              "      <th>199995</th>\n",
              "      <td>0.793</td>\n",
              "      <td>0.5620</td>\n",
              "      <td>4</td>\n",
              "      <td>-8.586</td>\n",
              "      <td>0</td>\n",
              "      <td>0.3390</td>\n",
              "      <td>0.139000</td>\n",
              "      <td>0.00000</td>\n",
              "      <td>0.0944</td>\n",
              "      <td>0.3410</td>\n",
              "      <td>144.985</td>\n",
              "      <td>121707</td>\n",
              "      <td>4</td>\n",
              "    </tr>\n",
              "    <tr>\n",
              "      <th>199996</th>\n",
              "      <td>0.114</td>\n",
              "      <td>0.9360</td>\n",
              "      <td>6</td>\n",
              "      <td>-3.389</td>\n",
              "      <td>1</td>\n",
              "      <td>0.0936</td>\n",
              "      <td>0.000006</td>\n",
              "      <td>0.00019</td>\n",
              "      <td>0.3220</td>\n",
              "      <td>0.2050</td>\n",
              "      <td>191.625</td>\n",
              "      <td>159659</td>\n",
              "      <td>4</td>\n",
              "    </tr>\n",
              "    <tr>\n",
              "      <th>199997</th>\n",
              "      <td>0.112</td>\n",
              "      <td>0.0158</td>\n",
              "      <td>9</td>\n",
              "      <td>-21.892</td>\n",
              "      <td>0</td>\n",
              "      <td>0.0422</td>\n",
              "      <td>0.970000</td>\n",
              "      <td>0.94400</td>\n",
              "      <td>0.0871</td>\n",
              "      <td>0.0964</td>\n",
              "      <td>71.745</td>\n",
              "      <td>219133</td>\n",
              "      <td>5</td>\n",
              "    </tr>\n",
              "    <tr>\n",
              "      <th>199998</th>\n",
              "      <td>0.777</td>\n",
              "      <td>0.6640</td>\n",
              "      <td>8</td>\n",
              "      <td>-5.785</td>\n",
              "      <td>0</td>\n",
              "      <td>0.3170</td>\n",
              "      <td>0.052500</td>\n",
              "      <td>0.01480</td>\n",
              "      <td>0.3440</td>\n",
              "      <td>0.9370</td>\n",
              "      <td>95.001</td>\n",
              "      <td>185480</td>\n",
              "      <td>4</td>\n",
              "    </tr>\n",
              "    <tr>\n",
              "      <th>199999</th>\n",
              "      <td>0.709</td>\n",
              "      <td>0.6190</td>\n",
              "      <td>11</td>\n",
              "      <td>-11.506</td>\n",
              "      <td>0</td>\n",
              "      <td>0.0329</td>\n",
              "      <td>0.006850</td>\n",
              "      <td>0.91500</td>\n",
              "      <td>0.0925</td>\n",
              "      <td>0.2840</td>\n",
              "      <td>114.039</td>\n",
              "      <td>262480</td>\n",
              "      <td>4</td>\n",
              "    </tr>\n",
              "  </tbody>\n",
              "</table>\n",
              "<p>199999 rows × 13 columns</p>\n",
              "</div>\n",
              "      <button class=\"colab-df-convert\" onclick=\"convertToInteractive('df-f3286bd5-1ed6-47e6-8aaf-d6c847e4550e')\"\n",
              "              title=\"Convert this dataframe to an interactive table.\"\n",
              "              style=\"display:none;\">\n",
              "        \n",
              "  <svg xmlns=\"http://www.w3.org/2000/svg\" height=\"24px\"viewBox=\"0 0 24 24\"\n",
              "       width=\"24px\">\n",
              "    <path d=\"M0 0h24v24H0V0z\" fill=\"none\"/>\n",
              "    <path d=\"M18.56 5.44l.94 2.06.94-2.06 2.06-.94-2.06-.94-.94-2.06-.94 2.06-2.06.94zm-11 1L8.5 8.5l.94-2.06 2.06-.94-2.06-.94L8.5 2.5l-.94 2.06-2.06.94zm10 10l.94 2.06.94-2.06 2.06-.94-2.06-.94-.94-2.06-.94 2.06-2.06.94z\"/><path d=\"M17.41 7.96l-1.37-1.37c-.4-.4-.92-.59-1.43-.59-.52 0-1.04.2-1.43.59L10.3 9.45l-7.72 7.72c-.78.78-.78 2.05 0 2.83L4 21.41c.39.39.9.59 1.41.59.51 0 1.02-.2 1.41-.59l7.78-7.78 2.81-2.81c.8-.78.8-2.07 0-2.86zM5.41 20L4 18.59l7.72-7.72 1.47 1.35L5.41 20z\"/>\n",
              "  </svg>\n",
              "      </button>\n",
              "      \n",
              "  <style>\n",
              "    .colab-df-container {\n",
              "      display:flex;\n",
              "      flex-wrap:wrap;\n",
              "      gap: 12px;\n",
              "    }\n",
              "\n",
              "    .colab-df-convert {\n",
              "      background-color: #E8F0FE;\n",
              "      border: none;\n",
              "      border-radius: 50%;\n",
              "      cursor: pointer;\n",
              "      display: none;\n",
              "      fill: #1967D2;\n",
              "      height: 32px;\n",
              "      padding: 0 0 0 0;\n",
              "      width: 32px;\n",
              "    }\n",
              "\n",
              "    .colab-df-convert:hover {\n",
              "      background-color: #E2EBFA;\n",
              "      box-shadow: 0px 1px 2px rgba(60, 64, 67, 0.3), 0px 1px 3px 1px rgba(60, 64, 67, 0.15);\n",
              "      fill: #174EA6;\n",
              "    }\n",
              "\n",
              "    [theme=dark] .colab-df-convert {\n",
              "      background-color: #3B4455;\n",
              "      fill: #D2E3FC;\n",
              "    }\n",
              "\n",
              "    [theme=dark] .colab-df-convert:hover {\n",
              "      background-color: #434B5C;\n",
              "      box-shadow: 0px 1px 3px 1px rgba(0, 0, 0, 0.15);\n",
              "      filter: drop-shadow(0px 1px 2px rgba(0, 0, 0, 0.3));\n",
              "      fill: #FFFFFF;\n",
              "    }\n",
              "  </style>\n",
              "\n",
              "      <script>\n",
              "        const buttonEl =\n",
              "          document.querySelector('#df-f3286bd5-1ed6-47e6-8aaf-d6c847e4550e button.colab-df-convert');\n",
              "        buttonEl.style.display =\n",
              "          google.colab.kernel.accessAllowed ? 'block' : 'none';\n",
              "\n",
              "        async function convertToInteractive(key) {\n",
              "          const element = document.querySelector('#df-f3286bd5-1ed6-47e6-8aaf-d6c847e4550e');\n",
              "          const dataTable =\n",
              "            await google.colab.kernel.invokeFunction('convertToInteractive',\n",
              "                                                     [key], {});\n",
              "          if (!dataTable) return;\n",
              "\n",
              "          const docLinkHtml = 'Like what you see? Visit the ' +\n",
              "            '<a target=\"_blank\" href=https://colab.research.google.com/notebooks/data_table.ipynb>data table notebook</a>'\n",
              "            + ' to learn more about interactive tables.';\n",
              "          element.innerHTML = '';\n",
              "          dataTable['output_type'] = 'display_data';\n",
              "          await google.colab.output.renderOutput(dataTable, element);\n",
              "          const docLink = document.createElement('div');\n",
              "          docLink.innerHTML = docLinkHtml;\n",
              "          element.appendChild(docLink);\n",
              "        }\n",
              "      </script>\n",
              "    </div>\n",
              "  </div>\n",
              "  "
            ],
            "text/plain": [
              "        danceability  energy  key  ...    tempo  duration_ms  time_signature\n",
              "0              0.901  0.1970    9  ...  128.493       146467               4\n",
              "1              0.325  0.9860    7  ...  123.153       445867               4\n",
              "2              0.650  0.9970    4  ...  127.086       362547               4\n",
              "4              0.265  0.6520    2  ...  170.520       256720               4\n",
              "5              0.403  0.1180    0  ...  130.710       455533               4\n",
              "...              ...     ...  ...  ...      ...          ...             ...\n",
              "199995         0.793  0.5620    4  ...  144.985       121707               4\n",
              "199996         0.114  0.9360    6  ...  191.625       159659               4\n",
              "199997         0.112  0.0158    9  ...   71.745       219133               5\n",
              "199998         0.777  0.6640    8  ...   95.001       185480               4\n",
              "199999         0.709  0.6190   11  ...  114.039       262480               4\n",
              "\n",
              "[199999 rows x 13 columns]"
            ]
          },
          "metadata": {},
          "execution_count": 37
        }
      ]
    },
    {
      "cell_type": "code",
      "source": [
        "import numpy as np\n",
        "from sklearn.preprocessing import MinMaxScaler"
      ],
      "metadata": {
        "id": "DH9ydvVYOh-F"
      },
      "execution_count": 44,
      "outputs": []
    },
    {
      "cell_type": "code",
      "source": [
        "def euclidian_distance(point1, point2):\n",
        "  point1 = np.array(point1)\n",
        "  point2 = np.array(point2)\n",
        "  dist = np.linalg.norm(point1 - point2)\n",
        "  return dist"
      ],
      "metadata": {
        "id": "oOEP2w9BNe3f"
      },
      "execution_count": 42,
      "outputs": []
    },
    {
      "cell_type": "code",
      "source": [
        "def get_10_recs(input_song_normalized, spotify_df_normalized, spotify_df):\n",
        "  spotify_df['sim'] = \"\"\n",
        "  for i, features in enumerate(spotify_df_normalized):\n",
        "    spotify_df.at[i, 'sim'] = euclidian_distance(input_song_normalized, features)\n",
        "  return spotify_df"
      ],
      "metadata": {
        "id": "CEPMESvA8ZxC"
      },
      "execution_count": 81,
      "outputs": []
    },
    {
      "cell_type": "code",
      "source": [
        "scaler = MinMaxScaler()\n",
        "sample_df = spotify_df.sample(100)\n",
        "spotify_df_normalized = scaler.fit_transform(sample_df[['danceability', 'energy',\n",
        "       'key', 'loudness', 'mode', 'speechiness', 'acousticness',\n",
        "       'instrumentalness', 'liveness', 'valence', 'tempo', 'duration_ms',\n",
        "       'time_signature']])"
      ],
      "metadata": {
        "id": "nmeCWXaEPgLn"
      },
      "execution_count": 173,
      "outputs": []
    },
    {
      "cell_type": "code",
      "source": [
        "spotify_df_normalized[0]"
      ],
      "metadata": {
        "colab": {
          "base_uri": "https://localhost:8080/"
        },
        "id": "PmTHH37tQLbx",
        "outputId": "537ccc33-347d-4d63-e861-72741d3e8d13"
      },
      "execution_count": 174,
      "outputs": [
        {
          "output_type": "execute_result",
          "data": {
            "text/plain": [
              "array([0.79275254, 0.50196243, 0.72727273, 0.70310847, 1.        ,\n",
              "       0.06318325, 0.54672969, 0.        , 0.04079991, 0.63842533,\n",
              "       0.21637836, 0.25698845, 0.75      ])"
            ]
          },
          "metadata": {},
          "execution_count": 174
        }
      ]
    },
    {
      "cell_type": "code",
      "source": [
        "input_song_normalized = scaler.transform(user_song_features_df)\n",
        "input_song_normalized"
      ],
      "metadata": {
        "colab": {
          "base_uri": "https://localhost:8080/"
        },
        "id": "Ud-3ssbfRGOi",
        "outputId": "abd5dcd8-1c84-40dd-9cd2-eaedd21b198a"
      },
      "execution_count": 175,
      "outputs": [
        {
          "output_type": "execute_result",
          "data": {
            "text/plain": [
              "array([[0.9081658 , 0.55012656, 0.18181818, 0.63687856, 1.        ,\n",
              "        0.01926996, 0.71457036, 0.00198958, 0.06217676, 0.88660676,\n",
              "        0.42206416, 0.2771195 , 0.75      ]])"
            ]
          },
          "metadata": {},
          "execution_count": 175
        }
      ]
    },
    {
      "cell_type": "code",
      "source": [
        "get_10_recs(input_song_normalized, spotify_df_normalized, sample_df)"
      ],
      "metadata": {
        "colab": {
          "base_uri": "https://localhost:8080/",
          "height": 696
        },
        "id": "Qv4J2Gu0OsHu",
        "outputId": "9ddb4c2b-ac8c-4480-9de3-e8250a1b610d"
      },
      "execution_count": 176,
      "outputs": [
        {
          "output_type": "execute_result",
          "data": {
            "text/html": [
              "\n",
              "  <div id=\"df-48361774-b63e-4a8b-92b7-8f77d90d6397\">\n",
              "    <div class=\"colab-df-container\">\n",
              "      <div>\n",
              "<style scoped>\n",
              "    .dataframe tbody tr th:only-of-type {\n",
              "        vertical-align: middle;\n",
              "    }\n",
              "\n",
              "    .dataframe tbody tr th {\n",
              "        vertical-align: top;\n",
              "    }\n",
              "\n",
              "    .dataframe thead th {\n",
              "        text-align: right;\n",
              "    }\n",
              "</style>\n",
              "<table border=\"1\" class=\"dataframe\">\n",
              "  <thead>\n",
              "    <tr style=\"text-align: right;\">\n",
              "      <th></th>\n",
              "      <th>id</th>\n",
              "      <th>name</th>\n",
              "      <th>album</th>\n",
              "      <th>album_id</th>\n",
              "      <th>artists</th>\n",
              "      <th>artist_ids</th>\n",
              "      <th>track_number</th>\n",
              "      <th>disc_number</th>\n",
              "      <th>explicit</th>\n",
              "      <th>danceability</th>\n",
              "      <th>energy</th>\n",
              "      <th>key</th>\n",
              "      <th>loudness</th>\n",
              "      <th>mode</th>\n",
              "      <th>speechiness</th>\n",
              "      <th>acousticness</th>\n",
              "      <th>instrumentalness</th>\n",
              "      <th>liveness</th>\n",
              "      <th>valence</th>\n",
              "      <th>tempo</th>\n",
              "      <th>duration_ms</th>\n",
              "      <th>time_signature</th>\n",
              "      <th>year</th>\n",
              "      <th>release_date</th>\n",
              "      <th>sim</th>\n",
              "    </tr>\n",
              "  </thead>\n",
              "  <tbody>\n",
              "    <tr>\n",
              "      <th>94540</th>\n",
              "      <td>6q5fB6uX5q5wJfyatUqxh1</td>\n",
              "      <td>Milagre Do Povo</td>\n",
              "      <td>Mina D'Água do Meu Canto</td>\n",
              "      <td>2O2G16pLz3vBVDzTTItiQq</td>\n",
              "      <td>['Gal Costa']</td>\n",
              "      <td>['1b8kpp4DUwt1hWaxTiWQhD']</td>\n",
              "      <td>6.0</td>\n",
              "      <td>1.0</td>\n",
              "      <td>False</td>\n",
              "      <td>0.707</td>\n",
              "      <td>0.498</td>\n",
              "      <td>8.0</td>\n",
              "      <td>-11.696</td>\n",
              "      <td>1.0</td>\n",
              "      <td>0.0594</td>\n",
              "      <td>0.544</td>\n",
              "      <td>0.000000</td>\n",
              "      <td>0.0854</td>\n",
              "      <td>0.629</td>\n",
              "      <td>98.166</td>\n",
              "      <td>235333.0</td>\n",
              "      <td>4.0</td>\n",
              "      <td>1995.0</td>\n",
              "      <td>6/14/1995</td>\n",
              "      <td></td>\n",
              "    </tr>\n",
              "    <tr>\n",
              "      <th>27345</th>\n",
              "      <td>1ox5R1TWQG76s9xOTRiuPN</td>\n",
              "      <td>Keep Me From Blowin' Away</td>\n",
              "      <td>In My View</td>\n",
              "      <td>131mIW0o9TSw4ywDuKlmHH</td>\n",
              "      <td>['Charlie Sizemore']</td>\n",
              "      <td>['5qhPkelajWSgPVUhZdGagf']</td>\n",
              "      <td>13.0</td>\n",
              "      <td>1.0</td>\n",
              "      <td>False</td>\n",
              "      <td>0.677</td>\n",
              "      <td>0.109</td>\n",
              "      <td>7.0</td>\n",
              "      <td>-17.716</td>\n",
              "      <td>1.0</td>\n",
              "      <td>0.0326</td>\n",
              "      <td>0.709</td>\n",
              "      <td>0.000000</td>\n",
              "      <td>0.1540</td>\n",
              "      <td>0.224</td>\n",
              "      <td>89.241</td>\n",
              "      <td>177133.0</td>\n",
              "      <td>3.0</td>\n",
              "      <td>2011.0</td>\n",
              "      <td>10/30/2011</td>\n",
              "      <td></td>\n",
              "    </tr>\n",
              "    <tr>\n",
              "      <th>44453</th>\n",
              "      <td>3MHxfij2Giwe1Ibxy74MP9</td>\n",
              "      <td>Introduction</td>\n",
              "      <td>The Transcontinental</td>\n",
              "      <td>20MFNrUGTnV2Z7YRze7jFO</td>\n",
              "      <td>['Roc C', 'Not Dr. Trevis']</td>\n",
              "      <td>['5bGlerwfdc1PN2Igf9HAYC', '4Wer3336qAism1yz9I...</td>\n",
              "      <td>1.0</td>\n",
              "      <td>1.0</td>\n",
              "      <td>True</td>\n",
              "      <td>0.400</td>\n",
              "      <td>0.149</td>\n",
              "      <td>3.0</td>\n",
              "      <td>-19.544</td>\n",
              "      <td>1.0</td>\n",
              "      <td>0.0708</td>\n",
              "      <td>0.809</td>\n",
              "      <td>0.000000</td>\n",
              "      <td>0.3560</td>\n",
              "      <td>0.227</td>\n",
              "      <td>123.018</td>\n",
              "      <td>150760.0</td>\n",
              "      <td>3.0</td>\n",
              "      <td>2009.0</td>\n",
              "      <td>5/19/2009</td>\n",
              "      <td></td>\n",
              "    </tr>\n",
              "    <tr>\n",
              "      <th>42011</th>\n",
              "      <td>6NPRlbDoDm1a2A8mzZiIWq</td>\n",
              "      <td>Nothing Compares 2 U - Live</td>\n",
              "      <td>Don't Explain (Live)</td>\n",
              "      <td>4mltX3Xaf99gWDx1RvFzaZ</td>\n",
              "      <td>['Heinz Sauer', 'Michael Wollny']</td>\n",
              "      <td>['1kBzT6LReLozVTUJMYOu76', '7MbjIv3XpMc2ciNcoW...</td>\n",
              "      <td>2.0</td>\n",
              "      <td>1.0</td>\n",
              "      <td>False</td>\n",
              "      <td>0.376</td>\n",
              "      <td>0.439</td>\n",
              "      <td>9.0</td>\n",
              "      <td>-10.050</td>\n",
              "      <td>1.0</td>\n",
              "      <td>0.1620</td>\n",
              "      <td>0.977</td>\n",
              "      <td>0.360000</td>\n",
              "      <td>0.7240</td>\n",
              "      <td>0.384</td>\n",
              "      <td>72.677</td>\n",
              "      <td>309427.0</td>\n",
              "      <td>5.0</td>\n",
              "      <td>2012.0</td>\n",
              "      <td>11/30/2012</td>\n",
              "      <td></td>\n",
              "    </tr>\n",
              "    <tr>\n",
              "      <th>9918</th>\n",
              "      <td>4f6zWxVdKNwO37dreh42kX</td>\n",
              "      <td>Valse Des Vachers</td>\n",
              "      <td>Times Ain't Like They Used To Be Vol. 8: Early...</td>\n",
              "      <td>7xyp8aCAZS09QYD6ZnoOnC</td>\n",
              "      <td>['Dennis McGee']</td>\n",
              "      <td>['1q2QwNdlkGCIJMzUea5sqI']</td>\n",
              "      <td>17.0</td>\n",
              "      <td>1.0</td>\n",
              "      <td>False</td>\n",
              "      <td>0.550</td>\n",
              "      <td>0.483</td>\n",
              "      <td>1.0</td>\n",
              "      <td>-12.709</td>\n",
              "      <td>1.0</td>\n",
              "      <td>0.0389</td>\n",
              "      <td>0.976</td>\n",
              "      <td>0.000071</td>\n",
              "      <td>0.2180</td>\n",
              "      <td>0.876</td>\n",
              "      <td>96.740</td>\n",
              "      <td>164213.0</td>\n",
              "      <td>4.0</td>\n",
              "      <td>2005.0</td>\n",
              "      <td>6/20/2005</td>\n",
              "      <td></td>\n",
              "    </tr>\n",
              "    <tr>\n",
              "      <th>...</th>\n",
              "      <td>...</td>\n",
              "      <td>...</td>\n",
              "      <td>...</td>\n",
              "      <td>...</td>\n",
              "      <td>...</td>\n",
              "      <td>...</td>\n",
              "      <td>...</td>\n",
              "      <td>...</td>\n",
              "      <td>...</td>\n",
              "      <td>...</td>\n",
              "      <td>...</td>\n",
              "      <td>...</td>\n",
              "      <td>...</td>\n",
              "      <td>...</td>\n",
              "      <td>...</td>\n",
              "      <td>...</td>\n",
              "      <td>...</td>\n",
              "      <td>...</td>\n",
              "      <td>...</td>\n",
              "      <td>...</td>\n",
              "      <td>...</td>\n",
              "      <td>...</td>\n",
              "      <td>...</td>\n",
              "      <td>...</td>\n",
              "      <td>...</td>\n",
              "    </tr>\n",
              "    <tr>\n",
              "      <th>95</th>\n",
              "      <td>NaN</td>\n",
              "      <td>NaN</td>\n",
              "      <td>NaN</td>\n",
              "      <td>NaN</td>\n",
              "      <td>NaN</td>\n",
              "      <td>NaN</td>\n",
              "      <td>NaN</td>\n",
              "      <td>NaN</td>\n",
              "      <td>NaN</td>\n",
              "      <td>NaN</td>\n",
              "      <td>NaN</td>\n",
              "      <td>NaN</td>\n",
              "      <td>NaN</td>\n",
              "      <td>NaN</td>\n",
              "      <td>NaN</td>\n",
              "      <td>NaN</td>\n",
              "      <td>NaN</td>\n",
              "      <td>NaN</td>\n",
              "      <td>NaN</td>\n",
              "      <td>NaN</td>\n",
              "      <td>NaN</td>\n",
              "      <td>NaN</td>\n",
              "      <td>NaN</td>\n",
              "      <td>NaN</td>\n",
              "      <td>1.8289</td>\n",
              "    </tr>\n",
              "    <tr>\n",
              "      <th>96</th>\n",
              "      <td>NaN</td>\n",
              "      <td>NaN</td>\n",
              "      <td>NaN</td>\n",
              "      <td>NaN</td>\n",
              "      <td>NaN</td>\n",
              "      <td>NaN</td>\n",
              "      <td>NaN</td>\n",
              "      <td>NaN</td>\n",
              "      <td>NaN</td>\n",
              "      <td>NaN</td>\n",
              "      <td>NaN</td>\n",
              "      <td>NaN</td>\n",
              "      <td>NaN</td>\n",
              "      <td>NaN</td>\n",
              "      <td>NaN</td>\n",
              "      <td>NaN</td>\n",
              "      <td>NaN</td>\n",
              "      <td>NaN</td>\n",
              "      <td>NaN</td>\n",
              "      <td>NaN</td>\n",
              "      <td>NaN</td>\n",
              "      <td>NaN</td>\n",
              "      <td>NaN</td>\n",
              "      <td>NaN</td>\n",
              "      <td>1.67509</td>\n",
              "    </tr>\n",
              "    <tr>\n",
              "      <th>97</th>\n",
              "      <td>NaN</td>\n",
              "      <td>NaN</td>\n",
              "      <td>NaN</td>\n",
              "      <td>NaN</td>\n",
              "      <td>NaN</td>\n",
              "      <td>NaN</td>\n",
              "      <td>NaN</td>\n",
              "      <td>NaN</td>\n",
              "      <td>NaN</td>\n",
              "      <td>NaN</td>\n",
              "      <td>NaN</td>\n",
              "      <td>NaN</td>\n",
              "      <td>NaN</td>\n",
              "      <td>NaN</td>\n",
              "      <td>NaN</td>\n",
              "      <td>NaN</td>\n",
              "      <td>NaN</td>\n",
              "      <td>NaN</td>\n",
              "      <td>NaN</td>\n",
              "      <td>NaN</td>\n",
              "      <td>NaN</td>\n",
              "      <td>NaN</td>\n",
              "      <td>NaN</td>\n",
              "      <td>NaN</td>\n",
              "      <td>1.30505</td>\n",
              "    </tr>\n",
              "    <tr>\n",
              "      <th>98</th>\n",
              "      <td>NaN</td>\n",
              "      <td>NaN</td>\n",
              "      <td>NaN</td>\n",
              "      <td>NaN</td>\n",
              "      <td>NaN</td>\n",
              "      <td>NaN</td>\n",
              "      <td>NaN</td>\n",
              "      <td>NaN</td>\n",
              "      <td>NaN</td>\n",
              "      <td>NaN</td>\n",
              "      <td>NaN</td>\n",
              "      <td>NaN</td>\n",
              "      <td>NaN</td>\n",
              "      <td>NaN</td>\n",
              "      <td>NaN</td>\n",
              "      <td>NaN</td>\n",
              "      <td>NaN</td>\n",
              "      <td>NaN</td>\n",
              "      <td>NaN</td>\n",
              "      <td>NaN</td>\n",
              "      <td>NaN</td>\n",
              "      <td>NaN</td>\n",
              "      <td>NaN</td>\n",
              "      <td>NaN</td>\n",
              "      <td>1.33393</td>\n",
              "    </tr>\n",
              "    <tr>\n",
              "      <th>99</th>\n",
              "      <td>NaN</td>\n",
              "      <td>NaN</td>\n",
              "      <td>NaN</td>\n",
              "      <td>NaN</td>\n",
              "      <td>NaN</td>\n",
              "      <td>NaN</td>\n",
              "      <td>NaN</td>\n",
              "      <td>NaN</td>\n",
              "      <td>NaN</td>\n",
              "      <td>NaN</td>\n",
              "      <td>NaN</td>\n",
              "      <td>NaN</td>\n",
              "      <td>NaN</td>\n",
              "      <td>NaN</td>\n",
              "      <td>NaN</td>\n",
              "      <td>NaN</td>\n",
              "      <td>NaN</td>\n",
              "      <td>NaN</td>\n",
              "      <td>NaN</td>\n",
              "      <td>NaN</td>\n",
              "      <td>NaN</td>\n",
              "      <td>NaN</td>\n",
              "      <td>NaN</td>\n",
              "      <td>NaN</td>\n",
              "      <td>0.865611</td>\n",
              "    </tr>\n",
              "  </tbody>\n",
              "</table>\n",
              "<p>200 rows × 25 columns</p>\n",
              "</div>\n",
              "      <button class=\"colab-df-convert\" onclick=\"convertToInteractive('df-48361774-b63e-4a8b-92b7-8f77d90d6397')\"\n",
              "              title=\"Convert this dataframe to an interactive table.\"\n",
              "              style=\"display:none;\">\n",
              "        \n",
              "  <svg xmlns=\"http://www.w3.org/2000/svg\" height=\"24px\"viewBox=\"0 0 24 24\"\n",
              "       width=\"24px\">\n",
              "    <path d=\"M0 0h24v24H0V0z\" fill=\"none\"/>\n",
              "    <path d=\"M18.56 5.44l.94 2.06.94-2.06 2.06-.94-2.06-.94-.94-2.06-.94 2.06-2.06.94zm-11 1L8.5 8.5l.94-2.06 2.06-.94-2.06-.94L8.5 2.5l-.94 2.06-2.06.94zm10 10l.94 2.06.94-2.06 2.06-.94-2.06-.94-.94-2.06-.94 2.06-2.06.94z\"/><path d=\"M17.41 7.96l-1.37-1.37c-.4-.4-.92-.59-1.43-.59-.52 0-1.04.2-1.43.59L10.3 9.45l-7.72 7.72c-.78.78-.78 2.05 0 2.83L4 21.41c.39.39.9.59 1.41.59.51 0 1.02-.2 1.41-.59l7.78-7.78 2.81-2.81c.8-.78.8-2.07 0-2.86zM5.41 20L4 18.59l7.72-7.72 1.47 1.35L5.41 20z\"/>\n",
              "  </svg>\n",
              "      </button>\n",
              "      \n",
              "  <style>\n",
              "    .colab-df-container {\n",
              "      display:flex;\n",
              "      flex-wrap:wrap;\n",
              "      gap: 12px;\n",
              "    }\n",
              "\n",
              "    .colab-df-convert {\n",
              "      background-color: #E8F0FE;\n",
              "      border: none;\n",
              "      border-radius: 50%;\n",
              "      cursor: pointer;\n",
              "      display: none;\n",
              "      fill: #1967D2;\n",
              "      height: 32px;\n",
              "      padding: 0 0 0 0;\n",
              "      width: 32px;\n",
              "    }\n",
              "\n",
              "    .colab-df-convert:hover {\n",
              "      background-color: #E2EBFA;\n",
              "      box-shadow: 0px 1px 2px rgba(60, 64, 67, 0.3), 0px 1px 3px 1px rgba(60, 64, 67, 0.15);\n",
              "      fill: #174EA6;\n",
              "    }\n",
              "\n",
              "    [theme=dark] .colab-df-convert {\n",
              "      background-color: #3B4455;\n",
              "      fill: #D2E3FC;\n",
              "    }\n",
              "\n",
              "    [theme=dark] .colab-df-convert:hover {\n",
              "      background-color: #434B5C;\n",
              "      box-shadow: 0px 1px 3px 1px rgba(0, 0, 0, 0.15);\n",
              "      filter: drop-shadow(0px 1px 2px rgba(0, 0, 0, 0.3));\n",
              "      fill: #FFFFFF;\n",
              "    }\n",
              "  </style>\n",
              "\n",
              "      <script>\n",
              "        const buttonEl =\n",
              "          document.querySelector('#df-48361774-b63e-4a8b-92b7-8f77d90d6397 button.colab-df-convert');\n",
              "        buttonEl.style.display =\n",
              "          google.colab.kernel.accessAllowed ? 'block' : 'none';\n",
              "\n",
              "        async function convertToInteractive(key) {\n",
              "          const element = document.querySelector('#df-48361774-b63e-4a8b-92b7-8f77d90d6397');\n",
              "          const dataTable =\n",
              "            await google.colab.kernel.invokeFunction('convertToInteractive',\n",
              "                                                     [key], {});\n",
              "          if (!dataTable) return;\n",
              "\n",
              "          const docLinkHtml = 'Like what you see? Visit the ' +\n",
              "            '<a target=\"_blank\" href=https://colab.research.google.com/notebooks/data_table.ipynb>data table notebook</a>'\n",
              "            + ' to learn more about interactive tables.';\n",
              "          element.innerHTML = '';\n",
              "          dataTable['output_type'] = 'display_data';\n",
              "          await google.colab.output.renderOutput(dataTable, element);\n",
              "          const docLink = document.createElement('div');\n",
              "          docLink.innerHTML = docLinkHtml;\n",
              "          element.appendChild(docLink);\n",
              "        }\n",
              "      </script>\n",
              "    </div>\n",
              "  </div>\n",
              "  "
            ],
            "text/plain": [
              "                           id  ...       sim\n",
              "94540  6q5fB6uX5q5wJfyatUqxh1  ...          \n",
              "27345  1ox5R1TWQG76s9xOTRiuPN  ...          \n",
              "44453  3MHxfij2Giwe1Ibxy74MP9  ...          \n",
              "42011  6NPRlbDoDm1a2A8mzZiIWq  ...          \n",
              "9918   4f6zWxVdKNwO37dreh42kX  ...          \n",
              "...                       ...  ...       ...\n",
              "95                        NaN  ...    1.8289\n",
              "96                        NaN  ...   1.67509\n",
              "97                        NaN  ...   1.30505\n",
              "98                        NaN  ...   1.33393\n",
              "99                        NaN  ...  0.865611\n",
              "\n",
              "[200 rows x 25 columns]"
            ]
          },
          "metadata": {},
          "execution_count": 176
        }
      ]
    },
    {
      "cell_type": "code",
      "source": [
        ""
      ],
      "metadata": {
        "id": "FN_cIE7-TX5k"
      },
      "execution_count": null,
      "outputs": []
    }
  ]
}
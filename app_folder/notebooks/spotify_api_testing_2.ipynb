{
  "nbformat": 4,
  "nbformat_minor": 0,
  "metadata": {
    "colab": {
      "name": "spotify_api_testing_2.ipynb",
      "provenance": [],
      "collapsed_sections": []
    },
    "kernelspec": {
      "name": "python3",
      "display_name": "Python 3"
    },
    "language_info": {
      "name": "python"
    }
  },
  "cells": [
    {
      "cell_type": "code",
      "execution_count": 1,
      "metadata": {
        "colab": {
          "base_uri": "https://localhost:8080/"
        },
        "id": "Qpnyizne15HB",
        "outputId": "366b6e22-0590-4661-afbf-e239f88000e9"
      },
      "outputs": [
        {
          "output_type": "stream",
          "name": "stdout",
          "text": [
            "Requirement already satisfied: spotipy in /usr/local/lib/python3.7/dist-packages (2.19.0)\n",
            "Requirement already satisfied: urllib3>=1.26.0 in /usr/local/lib/python3.7/dist-packages (from spotipy) (1.26.8)\n",
            "Requirement already satisfied: requests>=2.25.0 in /usr/local/lib/python3.7/dist-packages (from spotipy) (2.27.1)\n",
            "Requirement already satisfied: six>=1.15.0 in /usr/local/lib/python3.7/dist-packages (from spotipy) (1.15.0)\n",
            "Requirement already satisfied: certifi>=2017.4.17 in /usr/local/lib/python3.7/dist-packages (from requests>=2.25.0->spotipy) (2021.10.8)\n",
            "Requirement already satisfied: charset-normalizer~=2.0.0 in /usr/local/lib/python3.7/dist-packages (from requests>=2.25.0->spotipy) (2.0.10)\n",
            "Requirement already satisfied: idna<4,>=2.5 in /usr/local/lib/python3.7/dist-packages (from requests>=2.25.0->spotipy) (2.10)\n"
          ]
        }
      ],
      "source": [
        "!pip install spotipy"
      ]
    },
    {
      "cell_type": "code",
      "source": [
        "import base64\n",
        "import requests\n",
        "import datetime\n",
        "from urllib.parse import urlencode\n",
        "import spotipy\n",
        "from spotipy.oauth2 import SpotifyClientCredentials\n",
        "import os\n",
        "\n",
        "spotify_api_key = \"6b68c3794bbb4c1cbf3ec4a8f2f3f6c3\"\n",
        "spotify_api_key_secret = \"73f5aa7628f7443190a6515ff45c602e\"\n",
        "\n",
        "\n",
        "class SpotifyAPI(object):\n",
        "    access_token = None\n",
        "    access_token_expires = datetime.datetime.now()\n",
        "    access_token_did_expire = True\n",
        "    client_id = None\n",
        "    client_secret = None\n",
        "    token_url = \"https://accounts.spotify.com/api/token\"\n",
        "\n",
        "    def __init__(self, client_id, client_secret, *args, **kwargs):\n",
        "        # In case we want to inherit from somehwere else\n",
        "        super().__init__(*args, **kwargs)\n",
        "        self.client_id = client_id\n",
        "        self.client_secret = client_secret\n",
        "\n",
        "    def get_client_credentials(self):\n",
        "        \"\"\"\n",
        "        Returns a base64 encoded string\n",
        "        \"\"\"\n",
        "        client_id = self.client_id\n",
        "        client_secret = self.client_secret\n",
        "        if client_secret == None or client_id == None:\n",
        "            raise Exception(\"You must set client_id and client_secret\")\n",
        "        client_creds = f\"{client_id}:{client_secret}\"\n",
        "        client_creds_b64 = base64.b64encode(client_creds.encode())\n",
        "        return client_creds_b64.decode()\n",
        "\n",
        "    def get_token_headers(self):\n",
        "        client_creds_b64 = self.get_client_credentials()\n",
        "        return {\"Authorization\": f\"Basic {client_creds_b64}\"}\n",
        "\n",
        "    def get_token_data(self):\n",
        "        return {\"grant_type\": \"client_credentials\"}\n",
        "\n",
        "    def perform_auth(self):\n",
        "        token_url = self.token_url\n",
        "        token_data = self.get_token_data()\n",
        "        token_headers = self.get_token_headers()\n",
        "        r = requests.post(token_url, data=token_data, headers=token_headers)\n",
        "        if r.status_code not in range(200, 299):\n",
        "            raise Exception(\"Could not authenticate client.\")\n",
        "        data = r.json()\n",
        "        now = datetime.datetime.now()\n",
        "        access_token = data[\"access_token\"]\n",
        "        expires_in = data[\"expires_in\"]\n",
        "        expires = now + datetime.timedelta(seconds=expires_in)\n",
        "        self.access_token = access_token\n",
        "        self.access_token_expires = expires\n",
        "        self.access_token_did_expire = expires < now\n",
        "        return True\n",
        "\n",
        "    def get_access_token(self):\n",
        "        token = self.access_token\n",
        "        expires = self.access_token_expires\n",
        "        now = datetime.datetime.now()\n",
        "        if expires < now:\n",
        "            self.perform_auth()\n",
        "            return self.get_access_token()\n",
        "        elif token == None:\n",
        "            self.perform_auth()\n",
        "            return self.get_access_token()\n",
        "        return token\n",
        "\n",
        "    def get_resource_header(self):\n",
        "        access_token = self.get_access_token()\n",
        "        headers = {\"Authorization\": f\"Bearer {access_token}\"}\n",
        "        return headers\n",
        "\n",
        "    # def get_resource(self, lookup_id, resource_type=\"albums\", version=\"v1\"):\n",
        "    #     endpoint = f\"https://api.spotify.com/{version}/{resource_type}/{lookup_id}\"\n",
        "    #     headers = self.get_resource_header()\n",
        "    #     r = requests.get(endpoint, headers=headers)\n",
        "    #     if r.status_code not in range(200, 299):\n",
        "    #         return {}\n",
        "    #     return r.json()\n",
        "\n",
        "    # def get_artist(self, _id):\n",
        "    #     return self.get_resource(_id, resource_type=\"artists\")\n",
        "\n",
        "    def base_search(self, query_params):\n",
        "        headers = self.get_resource_header()\n",
        "        endpoint = \"https://api.spotify.com/v1/search\"\n",
        "        lookup_url = f\"{endpoint}?{query_params}\"\n",
        "        resp = requests.get(lookup_url, headers=headers)\n",
        "        if resp.status_code not in range(200, 299):\n",
        "            return {}\n",
        "        return resp.json()\n",
        "\n",
        "    def search(\n",
        "        self, query=None, operator=None, operator_query=None, search_type=\"artist\"\n",
        "    ):\n",
        "        if query == None:\n",
        "            raise Exception(\"A query is required\")\n",
        "        if isinstance(query, dict):\n",
        "            query = \" \".join([f\"{k}:{v}\" for k, v in query.items()])\n",
        "        if operator != None and operator_query != None:\n",
        "            if operator.lower() == \"or\" or operator.lower() == \"not\":\n",
        "                operator = operator.upper()\n",
        "                if isinstance(operator_query, str):\n",
        "                    query = f\"{query} {operator} {operator_query}\"\n",
        "        query_params = urlencode({\"q\": query, \"type\": search_type.lower()})\n",
        "        return self.base_search(query_params)"
      ],
      "metadata": {
        "id": "dnXrwcIg2CRt"
      },
      "execution_count": 2,
      "outputs": []
    },
    {
      "cell_type": "code",
      "source": [
        "auth_manager = SpotifyClientCredentials(spotify_api_key, spotify_api_key_secret)"
      ],
      "metadata": {
        "id": "eApBXjxJ2MNr"
      },
      "execution_count": 3,
      "outputs": []
    },
    {
      "cell_type": "code",
      "source": [
        "spotipy_instance = spotipy.Spotify(auth_manager=auth_manager)"
      ],
      "metadata": {
        "id": "ecfe6Na62NFl"
      },
      "execution_count": 4,
      "outputs": []
    },
    {
      "cell_type": "code",
      "source": [
        "def get_id_and_year(song_name, artist_name):\n",
        "    \"\"\"\n",
        "    Example:\n",
        "\n",
        "    song_id, song_year = get_id_and_year('margaritaville','jimmy buffett')\n",
        "\n",
        "    print(\"Song ID is:\", song_id)\n",
        "    print(\"Release year is:\", song_year)\n",
        "\n",
        "    Output:\n",
        "    Song ID is: 4EEjMyQub6tgFVshlM9j1M\n",
        "    Release year is: 1987\n",
        "\n",
        "    \"\"\"\n",
        "\n",
        "    spotify = SpotifyAPI(spotify_api_key, spotify_api_key_secret)\n",
        "    token = spotify.get_access_token()\n",
        "    if token == None:\n",
        "        return \"Failed to get Spotify token\"\n",
        "\n",
        "    try:\n",
        "        song_data = spotify.search(\n",
        "            {\"track\": song_name, \"artist\": artist_name}, search_type=\"track\"\n",
        "        )\n",
        "        song_id = song_data[\"tracks\"][\"items\"][0][\"id\"]\n",
        "        release_date = song_data[\"tracks\"][\"items\"][0][\"album\"][\"release_date\"]\n",
        "        format = \"%Y-%m-%d\"\n",
        "        song_year = datetime.datetime.strptime(release_date, format).year\n",
        "    except:\n",
        "        return \"There was an error finding your song. Please enter another song.\"\n",
        "\n",
        "    return song_id, song_year"
      ],
      "metadata": {
        "id": "dU4cOXod2Sio"
      },
      "execution_count": 5,
      "outputs": []
    },
    {
      "cell_type": "code",
      "source": [
        "spotify = SpotifyAPI(spotify_api_key, spotify_api_key_secret)\n",
        "song_data = spotify.search(\n",
        "                {\"track\": \"Margaritaville\", \"artist\": \"Jimmy Buffet\"}, search_type=\"track\"\n",
        "            )"
      ],
      "metadata": {
        "id": "sPKnohDJ2VsY"
      },
      "execution_count": 6,
      "outputs": []
    },
    {
      "cell_type": "code",
      "source": [
        "def retrieve_audio_features(spotify_id):\n",
        "    \"\"\"\n",
        "    Example:\n",
        "\n",
        "    retrieve_audio_features('4EEjMyQub6tgFVshlM9j1M')\n",
        "\n",
        "    returns a python dict\n",
        "    [{'danceability': 0.611,\n",
        "    'energy': 0.578,\n",
        "    'key': 1,\n",
        "    'loudness': -14.171,\n",
        "    'mode': 1,\n",
        "    'speechiness': 0.0676,\n",
        "    'acousticness': 0.0598,\n",
        "    'instrumentalness': 0.0219,\n",
        "    'liveness': 0.0983,\n",
        "    'valence': 0.884,\n",
        "    'tempo': 100.625,\n",
        "    'type': 'audio_features',\n",
        "    'id': '4N0TP4Rmj6QQezWV88ARNJ',\n",
        "    'uri': 'spotify:track:4N0TP4Rmj6QQezWV88ARNJ',\n",
        "    'track_href': 'https://api.spotify.com/v1/tracks/4N0TP4Rmj6QQezWV88ARNJ',\n",
        "    'analysis_url': 'https://api.spotify.com/v1/audio-analysis/4N0TP4Rmj6QQezWV88ARNJ',\n",
        "    'duration_ms': 266133,\n",
        "    'time_signature': 4}]\n",
        "\n",
        "    \"\"\"\n",
        "\n",
        "    auth_manager = SpotifyClientCredentials(spotify_api_key, spotify_api_key_secret)\n",
        "    spotipy_instance = spotipy.Spotify(auth_manager=auth_manager)\n",
        "\n",
        "    audio_features = spotipy_instance.audio_features(tracks=[spotify_id])\n",
        "    return audio_features"
      ],
      "metadata": {
        "id": "zNk1eQ1C2pL0"
      },
      "execution_count": 7,
      "outputs": []
    },
    {
      "cell_type": "code",
      "source": [
        "song_name = 'margaritaville'\n",
        "artist_name = 'Jimmy Buffet'\n",
        "song_id, song_year = get_id_and_year(song_name, artist_name)"
      ],
      "metadata": {
        "id": "TamhCrVj4k1f"
      },
      "execution_count": 8,
      "outputs": []
    },
    {
      "cell_type": "code",
      "source": [
        "audio_features_dict = retrieve_audio_features(song_id)\n",
        "\n",
        "danceability = audio_features_dict[0][\"danceability\"]\n",
        "energy = audio_features_dict[0][\"energy\"]\n",
        "key = audio_features_dict[0][\"key\"]\n",
        "loudness = audio_features_dict[0][\"loudness\"]\n",
        "mode = audio_features_dict[0][\"mode\"]\n",
        "speechiness = audio_features_dict[0][\"speechiness\"]\n",
        "acousticness = audio_features_dict[0][\"acousticness\"]\n",
        "instrumentalness = audio_features_dict[0][\"instrumentalness\"]\n",
        "liveness = audio_features_dict[0][\"liveness\"]\n",
        "valence = audio_features_dict[0][\"valence\"]\n",
        "tempo = audio_features_dict[0][\"tempo\"]\n",
        "duration_ms = audio_features_dict[0][\"duration_ms\"]\n",
        "time_signature = audio_features_dict[0][\"time_signature\"]\n",
        "\n",
        "user_song_features = [\n",
        "    danceability,\n",
        "    energy,\n",
        "    key,\n",
        "    loudness,\n",
        "    mode,\n",
        "    speechiness,\n",
        "    acousticness,\n",
        "    instrumentalness,\n",
        "    liveness,\n",
        "    valence,\n",
        "    tempo,\n",
        "    duration_ms,\n",
        "    time_signature,\n",
        "    song_year,\n",
        "]"
      ],
      "metadata": {
        "id": "Z6kNt2T42qCo"
      },
      "execution_count": 9,
      "outputs": []
    },
    {
      "cell_type": "markdown",
      "source": [
        "# Recommendations"
      ],
      "metadata": {
        "id": "Q9UtsDuX2wa3"
      }
    },
    {
      "cell_type": "code",
      "source": [
        "import pandas as pd"
      ],
      "metadata": {
        "id": "M5hLpbyD5C9s"
      },
      "execution_count": 11,
      "outputs": []
    },
    {
      "cell_type": "code",
      "source": [
        "# Read in spotify data from csv\n",
        "spotify_df = pd.read_csv(\"spotify_songs_dataset.csv\")\n",
        "\n",
        "# Filter df for songs with release year equal to user input\n",
        "df = spotify_df[spotify_df['year'] == user_song_features[-1]]\n",
        "\n",
        "# If less than 100 songs with matching year, add more songs\n",
        "song_year = user_song_features[-1]\n",
        "song_year_list = [song_year]\n",
        "while len(df) < 100:\n",
        "  song_year += 1\n",
        "  song_year_list.append(song_year)\n",
        "  df = spotify_df[spotify_df['year'].isin(song_year_list)]\n",
        "\n",
        "# Sample 100 random songs from that year\n",
        "df = df.sample(100).reset_index()"
      ],
      "metadata": {
        "colab": {
          "base_uri": "https://localhost:8080/",
          "height": 364
        },
        "id": "xwx_PPwG4LHB",
        "outputId": "320748d9-d1b1-49f6-a1db-6da92e282680"
      },
      "execution_count": 31,
      "outputs": [
        {
          "output_type": "execute_result",
          "data": {
            "text/html": [
              "\n",
              "  <div id=\"df-5d3917f8-af4a-4bd5-87e1-de4071718387\">\n",
              "    <div class=\"colab-df-container\">\n",
              "      <div>\n",
              "<style scoped>\n",
              "    .dataframe tbody tr th:only-of-type {\n",
              "        vertical-align: middle;\n",
              "    }\n",
              "\n",
              "    .dataframe tbody tr th {\n",
              "        vertical-align: top;\n",
              "    }\n",
              "\n",
              "    .dataframe thead th {\n",
              "        text-align: right;\n",
              "    }\n",
              "</style>\n",
              "<table border=\"1\" class=\"dataframe\">\n",
              "  <thead>\n",
              "    <tr style=\"text-align: right;\">\n",
              "      <th></th>\n",
              "      <th>index</th>\n",
              "      <th>id</th>\n",
              "      <th>name</th>\n",
              "      <th>album</th>\n",
              "      <th>artists</th>\n",
              "      <th>danceability</th>\n",
              "      <th>energy</th>\n",
              "      <th>key</th>\n",
              "      <th>loudness</th>\n",
              "      <th>mode</th>\n",
              "      <th>speechiness</th>\n",
              "      <th>acousticness</th>\n",
              "      <th>instrumentalness</th>\n",
              "      <th>liveness</th>\n",
              "      <th>valence</th>\n",
              "      <th>tempo</th>\n",
              "      <th>duration_ms</th>\n",
              "      <th>time_signature</th>\n",
              "      <th>year</th>\n",
              "    </tr>\n",
              "  </thead>\n",
              "  <tbody>\n",
              "    <tr>\n",
              "      <th>0</th>\n",
              "      <td>433995</td>\n",
              "      <td>3NyYWAxR3Thd99ZxpXegVh</td>\n",
              "      <td>If Heaven Never Was Promised To Me</td>\n",
              "      <td>I Am Willing, Lord</td>\n",
              "      <td>['Heritage Singers']</td>\n",
              "      <td>0.359</td>\n",
              "      <td>0.462</td>\n",
              "      <td>5</td>\n",
              "      <td>-9.691</td>\n",
              "      <td>1</td>\n",
              "      <td>0.0352</td>\n",
              "      <td>0.662</td>\n",
              "      <td>0.000000</td>\n",
              "      <td>0.0778</td>\n",
              "      <td>0.545</td>\n",
              "      <td>135.927</td>\n",
              "      <td>174226</td>\n",
              "      <td>4.0</td>\n",
              "      <td>1977</td>\n",
              "    </tr>\n",
              "    <tr>\n",
              "      <th>1</th>\n",
              "      <td>545387</td>\n",
              "      <td>6fkmYkHaWsctfpwWA8CK7Y</td>\n",
              "      <td>Mary Don'T You Weep</td>\n",
              "      <td>The Best Of The Caravans</td>\n",
              "      <td>['The Caravans']</td>\n",
              "      <td>0.529</td>\n",
              "      <td>0.235</td>\n",
              "      <td>8</td>\n",
              "      <td>-17.696</td>\n",
              "      <td>0</td>\n",
              "      <td>0.0480</td>\n",
              "      <td>0.883</td>\n",
              "      <td>0.000003</td>\n",
              "      <td>0.1280</td>\n",
              "      <td>0.432</td>\n",
              "      <td>92.626</td>\n",
              "      <td>393200</td>\n",
              "      <td>4.0</td>\n",
              "      <td>1977</td>\n",
              "    </tr>\n",
              "    <tr>\n",
              "      <th>2</th>\n",
              "      <td>439479</td>\n",
              "      <td>1pimWzwUERYZbAFr5tL0Xl</td>\n",
              "      <td>Elevation</td>\n",
              "      <td>Marquee Moon</td>\n",
              "      <td>['Television']</td>\n",
              "      <td>0.531</td>\n",
              "      <td>0.588</td>\n",
              "      <td>9</td>\n",
              "      <td>-10.215</td>\n",
              "      <td>0</td>\n",
              "      <td>0.0289</td>\n",
              "      <td>0.150</td>\n",
              "      <td>0.295000</td>\n",
              "      <td>0.0810</td>\n",
              "      <td>0.660</td>\n",
              "      <td>110.366</td>\n",
              "      <td>305267</td>\n",
              "      <td>4.0</td>\n",
              "      <td>1977</td>\n",
              "    </tr>\n",
              "  </tbody>\n",
              "</table>\n",
              "</div>\n",
              "      <button class=\"colab-df-convert\" onclick=\"convertToInteractive('df-5d3917f8-af4a-4bd5-87e1-de4071718387')\"\n",
              "              title=\"Convert this dataframe to an interactive table.\"\n",
              "              style=\"display:none;\">\n",
              "        \n",
              "  <svg xmlns=\"http://www.w3.org/2000/svg\" height=\"24px\"viewBox=\"0 0 24 24\"\n",
              "       width=\"24px\">\n",
              "    <path d=\"M0 0h24v24H0V0z\" fill=\"none\"/>\n",
              "    <path d=\"M18.56 5.44l.94 2.06.94-2.06 2.06-.94-2.06-.94-.94-2.06-.94 2.06-2.06.94zm-11 1L8.5 8.5l.94-2.06 2.06-.94-2.06-.94L8.5 2.5l-.94 2.06-2.06.94zm10 10l.94 2.06.94-2.06 2.06-.94-2.06-.94-.94-2.06-.94 2.06-2.06.94z\"/><path d=\"M17.41 7.96l-1.37-1.37c-.4-.4-.92-.59-1.43-.59-.52 0-1.04.2-1.43.59L10.3 9.45l-7.72 7.72c-.78.78-.78 2.05 0 2.83L4 21.41c.39.39.9.59 1.41.59.51 0 1.02-.2 1.41-.59l7.78-7.78 2.81-2.81c.8-.78.8-2.07 0-2.86zM5.41 20L4 18.59l7.72-7.72 1.47 1.35L5.41 20z\"/>\n",
              "  </svg>\n",
              "      </button>\n",
              "      \n",
              "  <style>\n",
              "    .colab-df-container {\n",
              "      display:flex;\n",
              "      flex-wrap:wrap;\n",
              "      gap: 12px;\n",
              "    }\n",
              "\n",
              "    .colab-df-convert {\n",
              "      background-color: #E8F0FE;\n",
              "      border: none;\n",
              "      border-radius: 50%;\n",
              "      cursor: pointer;\n",
              "      display: none;\n",
              "      fill: #1967D2;\n",
              "      height: 32px;\n",
              "      padding: 0 0 0 0;\n",
              "      width: 32px;\n",
              "    }\n",
              "\n",
              "    .colab-df-convert:hover {\n",
              "      background-color: #E2EBFA;\n",
              "      box-shadow: 0px 1px 2px rgba(60, 64, 67, 0.3), 0px 1px 3px 1px rgba(60, 64, 67, 0.15);\n",
              "      fill: #174EA6;\n",
              "    }\n",
              "\n",
              "    [theme=dark] .colab-df-convert {\n",
              "      background-color: #3B4455;\n",
              "      fill: #D2E3FC;\n",
              "    }\n",
              "\n",
              "    [theme=dark] .colab-df-convert:hover {\n",
              "      background-color: #434B5C;\n",
              "      box-shadow: 0px 1px 3px 1px rgba(0, 0, 0, 0.15);\n",
              "      filter: drop-shadow(0px 1px 2px rgba(0, 0, 0, 0.3));\n",
              "      fill: #FFFFFF;\n",
              "    }\n",
              "  </style>\n",
              "\n",
              "      <script>\n",
              "        const buttonEl =\n",
              "          document.querySelector('#df-5d3917f8-af4a-4bd5-87e1-de4071718387 button.colab-df-convert');\n",
              "        buttonEl.style.display =\n",
              "          google.colab.kernel.accessAllowed ? 'block' : 'none';\n",
              "\n",
              "        async function convertToInteractive(key) {\n",
              "          const element = document.querySelector('#df-5d3917f8-af4a-4bd5-87e1-de4071718387');\n",
              "          const dataTable =\n",
              "            await google.colab.kernel.invokeFunction('convertToInteractive',\n",
              "                                                     [key], {});\n",
              "          if (!dataTable) return;\n",
              "\n",
              "          const docLinkHtml = 'Like what you see? Visit the ' +\n",
              "            '<a target=\"_blank\" href=https://colab.research.google.com/notebooks/data_table.ipynb>data table notebook</a>'\n",
              "            + ' to learn more about interactive tables.';\n",
              "          element.innerHTML = '';\n",
              "          dataTable['output_type'] = 'display_data';\n",
              "          await google.colab.output.renderOutput(dataTable, element);\n",
              "          const docLink = document.createElement('div');\n",
              "          docLink.innerHTML = docLinkHtml;\n",
              "          element.appendChild(docLink);\n",
              "        }\n",
              "      </script>\n",
              "    </div>\n",
              "  </div>\n",
              "  "
            ],
            "text/plain": [
              "    index                      id  ... time_signature  year\n",
              "0  433995  3NyYWAxR3Thd99ZxpXegVh  ...            4.0  1977\n",
              "1  545387  6fkmYkHaWsctfpwWA8CK7Y  ...            4.0  1977\n",
              "2  439479  1pimWzwUERYZbAFr5tL0Xl  ...            4.0  1977\n",
              "\n",
              "[3 rows x 19 columns]"
            ]
          },
          "metadata": {},
          "execution_count": 31
        }
      ]
    },
    {
      "cell_type": "code",
      "source": [
        "import numpy as np\n",
        "from sklearn.preprocessing import MinMaxScaler"
      ],
      "metadata": {
        "id": "a4qlP6gX7dGZ"
      },
      "execution_count": 32,
      "outputs": []
    },
    {
      "cell_type": "code",
      "source": [
        "def euclidian_distance(point1, point2):\n",
        "  point1 = np.array(point1)\n",
        "  point2 = np.array(point2)\n",
        "  dist = np.linalg.norm(point1 - point2)\n",
        "  return dist"
      ],
      "metadata": {
        "id": "mKEjGj5d8JnG"
      },
      "execution_count": 33,
      "outputs": []
    },
    {
      "cell_type": "code",
      "source": [
        "# Normalize numerical audio features\n",
        "scaler = MinMaxScaler()\n",
        "df_normalized = scaler.fit_transform(df[['danceability', 'energy',\n",
        "       'key', 'loudness', 'mode', 'speechiness', 'acousticness',\n",
        "       'instrumentalness', 'liveness', 'valence', 'tempo', 'duration_ms',\n",
        "       'time_signature']])\n",
        "\n",
        "# Convert user_song_features to df for MinMaxScaler\n",
        "user_song_features_df = pd.DataFrame([user_song_features[:-1]], columns=['danceability', 'energy',\n",
        "       'key', 'loudness', 'mode', 'speechiness', 'acousticness',\n",
        "       'instrumentalness', 'liveness', 'valence', 'tempo', 'duration_ms',\n",
        "       'time_signature'])\n",
        "\n",
        "# Compute euclidian distance as a similarity metric\n",
        "input_song_normalized = scaler.transform(user_song_features_df)\n",
        "df['euc_dist'] = \"\"\n",
        "for i, features in enumerate(df_normalized):\n",
        "  df.at[i, 'euc_dist'] = euclidian_distance(input_song_normalized, features)"
      ],
      "metadata": {
        "id": "Iq8NOnNq8PnT"
      },
      "execution_count": 37,
      "outputs": []
    },
    {
      "cell_type": "code",
      "source": [
        "top_ten = df.sort_values(by=['euc_dist']).head(10)"
      ],
      "metadata": {
        "id": "5Nxhy3mo8wHm"
      },
      "execution_count": 40,
      "outputs": []
    },
    {
      "cell_type": "code",
      "source": [
        "song_list = list(top_ten['name'])\n",
        "artist_list = list(top_ten['artists'])\n",
        "album_list = list(top_ten['album'])"
      ],
      "metadata": {
        "id": "vGuoRKW2_nPc"
      },
      "execution_count": 45,
      "outputs": []
    },
    {
      "cell_type": "code",
      "source": [
        "recommendations = list(zip(song_list, artist_list, album_list))\n",
        "recommendations"
      ],
      "metadata": {
        "colab": {
          "base_uri": "https://localhost:8080/"
        },
        "id": "3tAkkBqCAa4g",
        "outputId": "54fe1bac-a082-4fe2-df77-2864be304bfa"
      },
      "execution_count": 47,
      "outputs": [
        {
          "output_type": "execute_result",
          "data": {
            "text/plain": [
              "[('Starlight', \"['Electric Light Orchestra']\", 'Out Of The Blue'),\n",
              " ('Make Yourself At Home (Lullabye For A Wayward Husband)',\n",
              "  \"['Midnight Well']\",\n",
              "  'Midnight Well'),\n",
              " ('Blue Eyed Darling',\n",
              "  \"['Jimmy Martin', 'Bob Osborne']\",\n",
              "  'Thirty Years Of Bluegrass'),\n",
              " ('The Dreaded Lergy', \"['Buddy Defranco']\", 'Lush Life'),\n",
              " ('Lay Your Money Down', \"['Bread']\", 'Lost Without Your Love'),\n",
              " ('Brand New Goodbye Song', \"['Waylon Jennings']\", \"Ol' Waylon\"),\n",
              " ('Just The Way You Are', \"['Billy Joel']\", 'The Stranger (Legacy Edition)'),\n",
              " ('In The Real World',\n",
              "  \"['The Alan Parsons Project']\",\n",
              "  'The Definitive Collection'),\n",
              " (\"I'Ve Got The Melody (Deep In My Heart)\",\n",
              "  \"['Kenny Loggins']\",\n",
              "  'Celebrate Me Home'),\n",
              " ('Mr. Brother', \"['Mother Freedom Band']\", 'Cutting The Chord')]"
            ]
          },
          "metadata": {},
          "execution_count": 47
        }
      ]
    },
    {
      "cell_type": "code",
      "source": [
        "def find_recommendations(user_song_features, song_id):\n",
        "\n",
        "    # Read in spotify data from csv\n",
        "    spotify_df = pd.read_csv(\n",
        "        \"https://raw.githubusercontent.com/dankositzke/spotify-song-recommender/heroku-deployment/app_folder/assets/spotify_songs_dataset.csv\",\n",
        "        sep=\",\",\n",
        "    )\n",
        "\n",
        "    # Remove input song from df so we do not recommend the input song back to the user\n",
        "    if song_id in spotify_df[\"id\"].values:\n",
        "        i = spotify_df[spotify_df[\"id\"] == song_id].index\n",
        "        spotify_df = spotify_df.drop(i)\n",
        "\n",
        "    # Filter df for songs with release year equal to user input\n",
        "    df = spotify_df[spotify_df[\"year\"] == user_song_features[-1]]\n",
        "\n",
        "    # If less than 100 songs with matching year, add more songs\n",
        "    song_year = user_song_features[-1]\n",
        "    song_year_list = [song_year]\n",
        "    while len(df) < 100:\n",
        "        song_year += 1\n",
        "        song_year_list.append(song_year)\n",
        "        df = spotify_df[spotify_df[\"year\"].isin(song_year_list)]\n",
        "\n",
        "    # Sample 100 random songs from that year\n",
        "    df = df.sample(100).reset_index()\n",
        "\n",
        "    # Normalize numerical audio features\n",
        "    scaler = MinMaxScaler()\n",
        "    df_normalized = scaler.fit_transform(\n",
        "        df[\n",
        "            [\n",
        "                \"danceability\",\n",
        "                \"energy\",\n",
        "                \"key\",\n",
        "                \"loudness\",\n",
        "                \"mode\",\n",
        "                \"speechiness\",\n",
        "                \"acousticness\",\n",
        "                \"instrumentalness\",\n",
        "                \"liveness\",\n",
        "                \"valence\",\n",
        "                \"tempo\",\n",
        "                \"duration_ms\",\n",
        "                \"time_signature\",\n",
        "            ]\n",
        "        ]\n",
        "    )\n",
        "\n",
        "    # Convert user_song_features to df for MinMaxScaler\n",
        "    user_song_features_df = pd.DataFrame(\n",
        "        [user_song_features[:-1]],\n",
        "        columns=[\n",
        "            \"danceability\",\n",
        "            \"energy\",\n",
        "            \"key\",\n",
        "            \"loudness\",\n",
        "            \"mode\",\n",
        "            \"speechiness\",\n",
        "            \"acousticness\",\n",
        "            \"instrumentalness\",\n",
        "            \"liveness\",\n",
        "            \"valence\",\n",
        "            \"tempo\",\n",
        "            \"duration_ms\",\n",
        "            \"time_signature\",\n",
        "        ],\n",
        "    )\n",
        "\n",
        "    # Compute euclidian distance as a similarity metric, find 10 most similar songs\n",
        "    input_song_normalized = scaler.transform(user_song_features_df)\n",
        "    df[\"euc_dist\"] = \"\"\n",
        "    for i, features in enumerate(df_normalized):\n",
        "        df.at[i, \"euc_dist\"] = euclidian_distance(input_song_normalized, features)\n",
        "    top_ten = df.sort_values(by=[\"euc_dist\"]).head(10)\n",
        "\n",
        "    song_list = list(top_ten[\"name\"])\n",
        "    artist_list = list(top_ten[\"artists\"])\n",
        "    album_list = list(top_ten[\"album\"])\n",
        "\n",
        "    recommendations = list(zip(song_list, artist_list, album_list))\n",
        "\n",
        "    return recommendations"
      ],
      "metadata": {
        "id": "i0BLF9L22zkp"
      },
      "execution_count": null,
      "outputs": []
    },
    {
      "cell_type": "code",
      "source": [
        "recommendations = find_recommendations(user_song_features, song_id)"
      ],
      "metadata": {
        "id": "HLU-Se_j2uKP"
      },
      "execution_count": null,
      "outputs": []
    },
    {
      "cell_type": "code",
      "source": [
        ""
      ],
      "metadata": {
        "id": "lNISr_6V2ynB"
      },
      "execution_count": null,
      "outputs": []
    }
  ]
}